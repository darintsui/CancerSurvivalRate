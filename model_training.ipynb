{
 "cells": [
  {
   "cell_type": "code",
   "execution_count": 1,
   "id": "0d119b71",
   "metadata": {},
   "outputs": [],
   "source": [
    "import pandas as pd\n",
    "import numpy as np\n",
    "import matplotlib.pyplot as plt\n",
    "from collections import Counter\n",
    "from tqdm import tqdm\n",
    "import re\n",
    "\n",
    "# Visualization\n",
    "from sklearn.decomposition import PCA\n",
    "import seaborn as sns\n",
    "from sklearn.manifold import TSNE\n",
    "from sklearn.decomposition import KernelPCA\n",
    "\n",
    "# ML Training\n",
    "from sklearn.model_selection import train_test_split\n",
    "from sklearn.linear_model import LogisticRegression\n",
    "from sklearn.ensemble import RandomForestClassifier\n",
    "from sklearn import svm\n",
    "from sklearn.model_selection import cross_val_score\n",
    "from sklearn.model_selection import GridSearchCV\n",
    "import statsmodels.api as sm\n",
    "from sklearn.feature_selection import SelectFromModel\n",
    "\n",
    "# ML Evaluation\n",
    "from sklearn.metrics import accuracy_score\n",
    "from sklearn.metrics import f1_score\n",
    "from sklearn.metrics import classification_report, confusion_matrix"
   ]
  },
  {
   "cell_type": "markdown",
   "id": "1fc8b724",
   "metadata": {},
   "source": [
    "### Handling Data ###"
   ]
  },
  {
   "cell_type": "code",
   "execution_count": 2,
   "id": "b230cc05",
   "metadata": {},
   "outputs": [
    {
     "data": {
      "text/plain": "     patient_id  ?|100130426  ?|100133144  ?|100134869   ?|10357    ?|10431  \\\n0  TCGA-05-4244          0.0     3.460913     3.618474  5.661048   9.731217   \n1  TCGA-05-4249          0.0     3.034867     3.748848  6.515884   9.853335   \n2  TCGA-05-4250          0.0     3.043572     2.811142  5.659257  10.156943   \n3  TCGA-05-4382          0.0     3.624230     3.099968  6.389400   9.658520   \n4  TCGA-05-4384          0.0     2.079088     2.168064  6.200361   9.137001   \n\n   ?|136542  ?|155060   ?|26823  ?|280660  ...  ZWINT|11130  ZXDA|7789  \\\n0       0.0  8.435591  1.033652  0.000000  ...     9.018679   5.350285   \n1       0.0  7.191819  1.383939  0.000000  ...     8.172463   5.980428   \n2       0.0  5.720508  0.000000  0.000000  ...    10.033203   5.931168   \n3       0.0  7.913021  0.564232  0.309525  ...     9.558593   5.373036   \n4       0.0  8.104766  0.687867  0.000000  ...     7.275566   6.340285   \n\n   ZXDB|158586  ZXDC|79364  ZYG11A|440590  ZYG11B|79699   ZYX|7791  \\\n0     8.197320    9.907260       0.763921     10.088854  11.471137   \n1     8.950002   10.204975       4.411650      9.622978  11.199826   \n2     8.517335    9.722642       4.782796      8.895339  12.408980   \n3     8.441915    9.888267       6.041142      9.828389  12.725185   \n4     9.140127   10.368190       3.160501      9.607079  11.706703   \n\n   ZZEF1|23140  ZZZ3|26009  sample_type  \n0     9.768648    9.170596            1  \n1    10.153704    9.433116            1  \n2    10.194166    9.060342            1  \n3    10.192589    9.376842            1  \n4    10.763478    9.500392            1  \n\n[5 rows x 20533 columns]",
      "text/html": "<div>\n<style scoped>\n    .dataframe tbody tr th:only-of-type {\n        vertical-align: middle;\n    }\n\n    .dataframe tbody tr th {\n        vertical-align: top;\n    }\n\n    .dataframe thead th {\n        text-align: right;\n    }\n</style>\n<table border=\"1\" class=\"dataframe\">\n  <thead>\n    <tr style=\"text-align: right;\">\n      <th></th>\n      <th>patient_id</th>\n      <th>?|100130426</th>\n      <th>?|100133144</th>\n      <th>?|100134869</th>\n      <th>?|10357</th>\n      <th>?|10431</th>\n      <th>?|136542</th>\n      <th>?|155060</th>\n      <th>?|26823</th>\n      <th>?|280660</th>\n      <th>...</th>\n      <th>ZWINT|11130</th>\n      <th>ZXDA|7789</th>\n      <th>ZXDB|158586</th>\n      <th>ZXDC|79364</th>\n      <th>ZYG11A|440590</th>\n      <th>ZYG11B|79699</th>\n      <th>ZYX|7791</th>\n      <th>ZZEF1|23140</th>\n      <th>ZZZ3|26009</th>\n      <th>sample_type</th>\n    </tr>\n  </thead>\n  <tbody>\n    <tr>\n      <th>0</th>\n      <td>TCGA-05-4244</td>\n      <td>0.0</td>\n      <td>3.460913</td>\n      <td>3.618474</td>\n      <td>5.661048</td>\n      <td>9.731217</td>\n      <td>0.0</td>\n      <td>8.435591</td>\n      <td>1.033652</td>\n      <td>0.000000</td>\n      <td>...</td>\n      <td>9.018679</td>\n      <td>5.350285</td>\n      <td>8.197320</td>\n      <td>9.907260</td>\n      <td>0.763921</td>\n      <td>10.088854</td>\n      <td>11.471137</td>\n      <td>9.768648</td>\n      <td>9.170596</td>\n      <td>1</td>\n    </tr>\n    <tr>\n      <th>1</th>\n      <td>TCGA-05-4249</td>\n      <td>0.0</td>\n      <td>3.034867</td>\n      <td>3.748848</td>\n      <td>6.515884</td>\n      <td>9.853335</td>\n      <td>0.0</td>\n      <td>7.191819</td>\n      <td>1.383939</td>\n      <td>0.000000</td>\n      <td>...</td>\n      <td>8.172463</td>\n      <td>5.980428</td>\n      <td>8.950002</td>\n      <td>10.204975</td>\n      <td>4.411650</td>\n      <td>9.622978</td>\n      <td>11.199826</td>\n      <td>10.153704</td>\n      <td>9.433116</td>\n      <td>1</td>\n    </tr>\n    <tr>\n      <th>2</th>\n      <td>TCGA-05-4250</td>\n      <td>0.0</td>\n      <td>3.043572</td>\n      <td>2.811142</td>\n      <td>5.659257</td>\n      <td>10.156943</td>\n      <td>0.0</td>\n      <td>5.720508</td>\n      <td>0.000000</td>\n      <td>0.000000</td>\n      <td>...</td>\n      <td>10.033203</td>\n      <td>5.931168</td>\n      <td>8.517335</td>\n      <td>9.722642</td>\n      <td>4.782796</td>\n      <td>8.895339</td>\n      <td>12.408980</td>\n      <td>10.194166</td>\n      <td>9.060342</td>\n      <td>1</td>\n    </tr>\n    <tr>\n      <th>3</th>\n      <td>TCGA-05-4382</td>\n      <td>0.0</td>\n      <td>3.624230</td>\n      <td>3.099968</td>\n      <td>6.389400</td>\n      <td>9.658520</td>\n      <td>0.0</td>\n      <td>7.913021</td>\n      <td>0.564232</td>\n      <td>0.309525</td>\n      <td>...</td>\n      <td>9.558593</td>\n      <td>5.373036</td>\n      <td>8.441915</td>\n      <td>9.888267</td>\n      <td>6.041142</td>\n      <td>9.828389</td>\n      <td>12.725185</td>\n      <td>10.192589</td>\n      <td>9.376842</td>\n      <td>1</td>\n    </tr>\n    <tr>\n      <th>4</th>\n      <td>TCGA-05-4384</td>\n      <td>0.0</td>\n      <td>2.079088</td>\n      <td>2.168064</td>\n      <td>6.200361</td>\n      <td>9.137001</td>\n      <td>0.0</td>\n      <td>8.104766</td>\n      <td>0.687867</td>\n      <td>0.000000</td>\n      <td>...</td>\n      <td>7.275566</td>\n      <td>6.340285</td>\n      <td>9.140127</td>\n      <td>10.368190</td>\n      <td>3.160501</td>\n      <td>9.607079</td>\n      <td>11.706703</td>\n      <td>10.763478</td>\n      <td>9.500392</td>\n      <td>1</td>\n    </tr>\n  </tbody>\n</table>\n<p>5 rows × 20533 columns</p>\n</div>"
     },
     "execution_count": 2,
     "metadata": {},
     "output_type": "execute_result"
    }
   ],
   "source": [
    "# Import expression data\n",
    "expression = pd.read_csv('data/Gene_expression_log2.csv')\n",
    "expression.head()"
   ]
  },
  {
   "cell_type": "markdown",
   "id": "cda4be25",
   "metadata": {},
   "source": [
    "## 1 Year"
   ]
  },
  {
   "cell_type": "code",
   "execution_count": 3,
   "id": "5769e0f7",
   "metadata": {},
   "outputs": [
    {
     "data": {
      "text/plain": "          gene    baseMean  log2FoldChange     lfcSE      stat        pvalue  \\\n0   MAEL|84944   34.385374        3.815821  0.456804  8.353305  6.640000e-17   \n1   WIF1|11197  734.788524        3.071286  0.389516  7.884882  3.150000e-15   \n2  COL4A6|1288   38.422810       -2.225394  0.284721 -7.816044  5.450000e-15   \n3  CIDEC|63924   14.800624       -3.942030  0.510802 -7.717331  1.190000e-14   \n4     NTS|4922  176.357014       -3.859908  0.504927 -7.644489  2.100000e-14   \n\n           padj  \n0  1.200000e-12  \n1  2.840000e-11  \n2  3.280000e-11  \n3  5.360000e-11  \n4  7.570000e-11  ",
      "text/html": "<div>\n<style scoped>\n    .dataframe tbody tr th:only-of-type {\n        vertical-align: middle;\n    }\n\n    .dataframe tbody tr th {\n        vertical-align: top;\n    }\n\n    .dataframe thead th {\n        text-align: right;\n    }\n</style>\n<table border=\"1\" class=\"dataframe\">\n  <thead>\n    <tr style=\"text-align: right;\">\n      <th></th>\n      <th>gene</th>\n      <th>baseMean</th>\n      <th>log2FoldChange</th>\n      <th>lfcSE</th>\n      <th>stat</th>\n      <th>pvalue</th>\n      <th>padj</th>\n    </tr>\n  </thead>\n  <tbody>\n    <tr>\n      <th>0</th>\n      <td>MAEL|84944</td>\n      <td>34.385374</td>\n      <td>3.815821</td>\n      <td>0.456804</td>\n      <td>8.353305</td>\n      <td>6.640000e-17</td>\n      <td>1.200000e-12</td>\n    </tr>\n    <tr>\n      <th>1</th>\n      <td>WIF1|11197</td>\n      <td>734.788524</td>\n      <td>3.071286</td>\n      <td>0.389516</td>\n      <td>7.884882</td>\n      <td>3.150000e-15</td>\n      <td>2.840000e-11</td>\n    </tr>\n    <tr>\n      <th>2</th>\n      <td>COL4A6|1288</td>\n      <td>38.422810</td>\n      <td>-2.225394</td>\n      <td>0.284721</td>\n      <td>-7.816044</td>\n      <td>5.450000e-15</td>\n      <td>3.280000e-11</td>\n    </tr>\n    <tr>\n      <th>3</th>\n      <td>CIDEC|63924</td>\n      <td>14.800624</td>\n      <td>-3.942030</td>\n      <td>0.510802</td>\n      <td>-7.717331</td>\n      <td>1.190000e-14</td>\n      <td>5.360000e-11</td>\n    </tr>\n    <tr>\n      <th>4</th>\n      <td>NTS|4922</td>\n      <td>176.357014</td>\n      <td>-3.859908</td>\n      <td>0.504927</td>\n      <td>-7.644489</td>\n      <td>2.100000e-14</td>\n      <td>7.570000e-11</td>\n    </tr>\n  </tbody>\n</table>\n</div>"
     },
     "execution_count": 3,
     "metadata": {},
     "output_type": "execute_result"
    }
   ],
   "source": [
    "# Import 1-year exp data\n",
    "yr_one = pd.read_csv('top_100_DEgenes_3yr.txt', delimiter='\\t')\n",
    "yr_one.head()"
   ]
  },
  {
   "cell_type": "code",
   "execution_count": 4,
   "id": "052fba92",
   "metadata": {},
   "outputs": [
    {
     "data": {
      "text/plain": "100"
     },
     "execution_count": 4,
     "metadata": {},
     "output_type": "execute_result"
    }
   ],
   "source": [
    "# Number of genes in both datasets\n",
    "len(set(expression.columns).intersection(set(yr_one.gene)))"
   ]
  },
  {
   "cell_type": "code",
   "execution_count": 5,
   "id": "389198c7",
   "metadata": {},
   "outputs": [
    {
     "data": {
      "text/plain": "set()"
     },
     "execution_count": 5,
     "metadata": {},
     "output_type": "execute_result"
    }
   ],
   "source": [
    "# How many genes are present in the one-year that aren't in the expression data?\n",
    "# Should be 0\n",
    "set(yr_one.gene) - set(expression.columns)"
   ]
  },
  {
   "cell_type": "code",
   "execution_count": 6,
   "id": "0034d40e",
   "metadata": {},
   "outputs": [],
   "source": [
    "common_genes = set(yr_one.gene).intersection(set(expression.columns))\n",
    "common_genes.add('patient_id')"
   ]
  },
  {
   "cell_type": "code",
   "execution_count": 7,
   "id": "41b2ec62",
   "metadata": {},
   "outputs": [],
   "source": [
    "yr_one_exp = expression[list(common_genes)]"
   ]
  },
  {
   "cell_type": "markdown",
   "id": "2ca49e6f",
   "metadata": {},
   "source": [
    "### Label data ###\n",
    "\n",
    "Which patients have survived?"
   ]
  },
  {
   "cell_type": "code",
   "execution_count": 8,
   "id": "6cffe711",
   "metadata": {},
   "outputs": [
    {
     "data": {
      "text/plain": "     patient_id  Label\n0  TCGA-05-4249      1\n1  TCGA-05-4389      1\n2  TCGA-05-4390      1\n3  TCGA-05-4398      1\n4  TCGA-05-4415      0",
      "text/html": "<div>\n<style scoped>\n    .dataframe tbody tr th:only-of-type {\n        vertical-align: middle;\n    }\n\n    .dataframe tbody tr th {\n        vertical-align: top;\n    }\n\n    .dataframe thead th {\n        text-align: right;\n    }\n</style>\n<table border=\"1\" class=\"dataframe\">\n  <thead>\n    <tr style=\"text-align: right;\">\n      <th></th>\n      <th>patient_id</th>\n      <th>Label</th>\n    </tr>\n  </thead>\n  <tbody>\n    <tr>\n      <th>0</th>\n      <td>TCGA-05-4249</td>\n      <td>1</td>\n    </tr>\n    <tr>\n      <th>1</th>\n      <td>TCGA-05-4389</td>\n      <td>1</td>\n    </tr>\n    <tr>\n      <th>2</th>\n      <td>TCGA-05-4390</td>\n      <td>1</td>\n    </tr>\n    <tr>\n      <th>3</th>\n      <td>TCGA-05-4398</td>\n      <td>1</td>\n    </tr>\n    <tr>\n      <th>4</th>\n      <td>TCGA-05-4415</td>\n      <td>0</td>\n    </tr>\n  </tbody>\n</table>\n</div>"
     },
     "execution_count": 8,
     "metadata": {},
     "output_type": "execute_result"
    }
   ],
   "source": [
    "y = pd.read_csv('labels_3yr.csv')\n",
    "y.head()"
   ]
  },
  {
   "cell_type": "code",
   "execution_count": 9,
   "id": "6d1945ae",
   "metadata": {},
   "outputs": [
    {
     "data": {
      "text/plain": "1    119\n0     90\nName: Label, dtype: int64"
     },
     "execution_count": 9,
     "metadata": {},
     "output_type": "execute_result"
    }
   ],
   "source": [
    "y.Label.value_counts()"
   ]
  },
  {
   "cell_type": "code",
   "execution_count": 10,
   "id": "9f043997",
   "metadata": {},
   "outputs": [],
   "source": [
    "patient_id = y['patient_id']\n",
    "exp_file = y.merge(yr_one_exp, on='patient_id')\n",
    "exp_file = exp_file.drop(['patient_id'],axis = 1)"
   ]
  },
  {
   "cell_type": "code",
   "execution_count": 11,
   "id": "e14668bd",
   "metadata": {},
   "outputs": [
    {
     "data": {
      "text/plain": "(209, 101)"
     },
     "execution_count": 11,
     "metadata": {},
     "output_type": "execute_result"
    }
   ],
   "source": [
    "exp_file.shape"
   ]
  },
  {
   "cell_type": "markdown",
   "id": "7ff9ccca",
   "metadata": {},
   "source": [
    "### Add metadata"
   ]
  },
  {
   "cell_type": "code",
   "execution_count": 12,
   "id": "dfcc8bbc",
   "metadata": {},
   "outputs": [],
   "source": [
    "# Add patient_id back\n",
    "exp_file['patient_id'] = patient_id\n",
    "\n",
    "# Add metadata to meta_file\n",
    "metadata_final = pd.read_csv('data/metadata_final_no_os.csv')\n",
    "meta_file = metadata_final.merge(exp_file, how='right', on='patient_id')"
   ]
  },
  {
   "cell_type": "code",
   "execution_count": 13,
   "id": "7a6add3e",
   "metadata": {},
   "outputs": [
    {
     "data": {
      "text/plain": "       patient_id  age_at_initial_pathologic_diagnosis  gender_FEMALE  \\\n0    TCGA-05-4249                                   67              0   \n1    TCGA-05-4389                                   70              0   \n2    TCGA-05-4390                                   58              1   \n3    TCGA-05-4398                                   47              1   \n4    TCGA-05-4415                                   57              0   \n..            ...                                  ...            ...   \n204  TCGA-MP-A5C7                                   76              1   \n205  TCGA-NJ-A4YF                                   50              1   \n206  TCGA-NJ-A4YG                                   65              0   \n207  TCGA-NJ-A4YQ                                   69              1   \n208  TCGA-O1-A52J                                   74              1   \n\n     gender_MALE  tumor_stage_Early  tumor_stage_Late  tumor_stage_N/A  \\\n0              1                  1                 0                0   \n1              1                  1                 0                0   \n2              0                  1                 0                0   \n3              0                  0                 1                0   \n4              1                  0                 1                0   \n..           ...                ...               ...              ...   \n204            0                  1                 0                0   \n205            0                  1                 0                0   \n206            1                  1                 0                0   \n207            0                  1                 0                0   \n208            0                  1                 0                0   \n\n     is_smoker_False  is_smoker_True  Label  ...  LRRC66|339977  \\\n0                  0               1      1  ...       0.402722   \n1                  0               1      1  ...       6.441384   \n2                  0               1      1  ...       0.712552   \n3                  0               1      1  ...       2.686411   \n4                  0               1      0  ...       1.688046   \n..               ...             ...    ...  ...            ...   \n204                0               1      1  ...       1.166651   \n205                0               1      1  ...       4.728813   \n206                0               1      1  ...       1.107487   \n207                0               1      1  ...       5.966225   \n208                0               1      1  ...       2.407679   \n\n     HSD17B13|345275  IL1A|3552   JAG1|182  WFDC12|128488  ODZ3|55714  \\\n0           4.826106   4.576456   9.700388       0.000000    6.242107   \n1           8.828743   2.671090   9.622506       1.004825    5.808220   \n2           1.187324   2.754460   8.285555       5.149272    5.869881   \n3           2.532242   6.906470   8.467524       0.283922    6.611485   \n4           1.222372   0.000000  10.797394       0.000000    7.485604   \n..               ...        ...        ...            ...         ...   \n204         9.656234   1.166651   9.136694       0.500802    3.151307   \n205         0.684819   2.013534   7.428980       0.000000    5.382138   \n206         4.240192   3.948059   8.988480       2.158402    5.487998   \n207         4.706525   2.733289   9.860213       0.702835    6.289333   \n208         5.665643   2.753091   8.153461       5.492465    5.567165   \n\n     LECT1|11061  AP1S3|130340  NEFL|4747  HNF4A|3172  \n0       3.228188      8.063826   3.369704    1.962586  \n1       0.417488      7.918505   2.122905    8.220693  \n2       1.187324      7.699954   0.000000    0.712552  \n3       0.000000      7.730613   0.902961    2.869299  \n4       0.000000     10.511861   7.330917    3.429991  \n..           ...           ...        ...         ...  \n204     0.000000      8.024381   0.000000    3.398432  \n205     0.000000      7.722514   2.215741    0.000000  \n206     1.107487      7.839582   3.088447    4.722696  \n207     0.000000      7.922923   1.173447    1.173447  \n208    14.648622      7.654479   1.542951    0.968570  \n\n[209 rows x 110 columns]",
      "text/html": "<div>\n<style scoped>\n    .dataframe tbody tr th:only-of-type {\n        vertical-align: middle;\n    }\n\n    .dataframe tbody tr th {\n        vertical-align: top;\n    }\n\n    .dataframe thead th {\n        text-align: right;\n    }\n</style>\n<table border=\"1\" class=\"dataframe\">\n  <thead>\n    <tr style=\"text-align: right;\">\n      <th></th>\n      <th>patient_id</th>\n      <th>age_at_initial_pathologic_diagnosis</th>\n      <th>gender_FEMALE</th>\n      <th>gender_MALE</th>\n      <th>tumor_stage_Early</th>\n      <th>tumor_stage_Late</th>\n      <th>tumor_stage_N/A</th>\n      <th>is_smoker_False</th>\n      <th>is_smoker_True</th>\n      <th>Label</th>\n      <th>...</th>\n      <th>LRRC66|339977</th>\n      <th>HSD17B13|345275</th>\n      <th>IL1A|3552</th>\n      <th>JAG1|182</th>\n      <th>WFDC12|128488</th>\n      <th>ODZ3|55714</th>\n      <th>LECT1|11061</th>\n      <th>AP1S3|130340</th>\n      <th>NEFL|4747</th>\n      <th>HNF4A|3172</th>\n    </tr>\n  </thead>\n  <tbody>\n    <tr>\n      <th>0</th>\n      <td>TCGA-05-4249</td>\n      <td>67</td>\n      <td>0</td>\n      <td>1</td>\n      <td>1</td>\n      <td>0</td>\n      <td>0</td>\n      <td>0</td>\n      <td>1</td>\n      <td>1</td>\n      <td>...</td>\n      <td>0.402722</td>\n      <td>4.826106</td>\n      <td>4.576456</td>\n      <td>9.700388</td>\n      <td>0.000000</td>\n      <td>6.242107</td>\n      <td>3.228188</td>\n      <td>8.063826</td>\n      <td>3.369704</td>\n      <td>1.962586</td>\n    </tr>\n    <tr>\n      <th>1</th>\n      <td>TCGA-05-4389</td>\n      <td>70</td>\n      <td>0</td>\n      <td>1</td>\n      <td>1</td>\n      <td>0</td>\n      <td>0</td>\n      <td>0</td>\n      <td>1</td>\n      <td>1</td>\n      <td>...</td>\n      <td>6.441384</td>\n      <td>8.828743</td>\n      <td>2.671090</td>\n      <td>9.622506</td>\n      <td>1.004825</td>\n      <td>5.808220</td>\n      <td>0.417488</td>\n      <td>7.918505</td>\n      <td>2.122905</td>\n      <td>8.220693</td>\n    </tr>\n    <tr>\n      <th>2</th>\n      <td>TCGA-05-4390</td>\n      <td>58</td>\n      <td>1</td>\n      <td>0</td>\n      <td>1</td>\n      <td>0</td>\n      <td>0</td>\n      <td>0</td>\n      <td>1</td>\n      <td>1</td>\n      <td>...</td>\n      <td>0.712552</td>\n      <td>1.187324</td>\n      <td>2.754460</td>\n      <td>8.285555</td>\n      <td>5.149272</td>\n      <td>5.869881</td>\n      <td>1.187324</td>\n      <td>7.699954</td>\n      <td>0.000000</td>\n      <td>0.712552</td>\n    </tr>\n    <tr>\n      <th>3</th>\n      <td>TCGA-05-4398</td>\n      <td>47</td>\n      <td>1</td>\n      <td>0</td>\n      <td>0</td>\n      <td>1</td>\n      <td>0</td>\n      <td>0</td>\n      <td>1</td>\n      <td>1</td>\n      <td>...</td>\n      <td>2.686411</td>\n      <td>2.532242</td>\n      <td>6.906470</td>\n      <td>8.467524</td>\n      <td>0.283922</td>\n      <td>6.611485</td>\n      <td>0.000000</td>\n      <td>7.730613</td>\n      <td>0.902961</td>\n      <td>2.869299</td>\n    </tr>\n    <tr>\n      <th>4</th>\n      <td>TCGA-05-4415</td>\n      <td>57</td>\n      <td>0</td>\n      <td>1</td>\n      <td>0</td>\n      <td>1</td>\n      <td>0</td>\n      <td>0</td>\n      <td>1</td>\n      <td>0</td>\n      <td>...</td>\n      <td>1.688046</td>\n      <td>1.222372</td>\n      <td>0.000000</td>\n      <td>10.797394</td>\n      <td>0.000000</td>\n      <td>7.485604</td>\n      <td>0.000000</td>\n      <td>10.511861</td>\n      <td>7.330917</td>\n      <td>3.429991</td>\n    </tr>\n    <tr>\n      <th>...</th>\n      <td>...</td>\n      <td>...</td>\n      <td>...</td>\n      <td>...</td>\n      <td>...</td>\n      <td>...</td>\n      <td>...</td>\n      <td>...</td>\n      <td>...</td>\n      <td>...</td>\n      <td>...</td>\n      <td>...</td>\n      <td>...</td>\n      <td>...</td>\n      <td>...</td>\n      <td>...</td>\n      <td>...</td>\n      <td>...</td>\n      <td>...</td>\n      <td>...</td>\n      <td>...</td>\n    </tr>\n    <tr>\n      <th>204</th>\n      <td>TCGA-MP-A5C7</td>\n      <td>76</td>\n      <td>1</td>\n      <td>0</td>\n      <td>1</td>\n      <td>0</td>\n      <td>0</td>\n      <td>0</td>\n      <td>1</td>\n      <td>1</td>\n      <td>...</td>\n      <td>1.166651</td>\n      <td>9.656234</td>\n      <td>1.166651</td>\n      <td>9.136694</td>\n      <td>0.500802</td>\n      <td>3.151307</td>\n      <td>0.000000</td>\n      <td>8.024381</td>\n      <td>0.000000</td>\n      <td>3.398432</td>\n    </tr>\n    <tr>\n      <th>205</th>\n      <td>TCGA-NJ-A4YF</td>\n      <td>50</td>\n      <td>1</td>\n      <td>0</td>\n      <td>1</td>\n      <td>0</td>\n      <td>0</td>\n      <td>0</td>\n      <td>1</td>\n      <td>1</td>\n      <td>...</td>\n      <td>4.728813</td>\n      <td>0.684819</td>\n      <td>2.013534</td>\n      <td>7.428980</td>\n      <td>0.000000</td>\n      <td>5.382138</td>\n      <td>0.000000</td>\n      <td>7.722514</td>\n      <td>2.215741</td>\n      <td>0.000000</td>\n    </tr>\n    <tr>\n      <th>206</th>\n      <td>TCGA-NJ-A4YG</td>\n      <td>65</td>\n      <td>0</td>\n      <td>1</td>\n      <td>1</td>\n      <td>0</td>\n      <td>0</td>\n      <td>0</td>\n      <td>1</td>\n      <td>1</td>\n      <td>...</td>\n      <td>1.107487</td>\n      <td>4.240192</td>\n      <td>3.948059</td>\n      <td>8.988480</td>\n      <td>2.158402</td>\n      <td>5.487998</td>\n      <td>1.107487</td>\n      <td>7.839582</td>\n      <td>3.088447</td>\n      <td>4.722696</td>\n    </tr>\n    <tr>\n      <th>207</th>\n      <td>TCGA-NJ-A4YQ</td>\n      <td>69</td>\n      <td>1</td>\n      <td>0</td>\n      <td>1</td>\n      <td>0</td>\n      <td>0</td>\n      <td>0</td>\n      <td>1</td>\n      <td>1</td>\n      <td>...</td>\n      <td>5.966225</td>\n      <td>4.706525</td>\n      <td>2.733289</td>\n      <td>9.860213</td>\n      <td>0.702835</td>\n      <td>6.289333</td>\n      <td>0.000000</td>\n      <td>7.922923</td>\n      <td>1.173447</td>\n      <td>1.173447</td>\n    </tr>\n    <tr>\n      <th>208</th>\n      <td>TCGA-O1-A52J</td>\n      <td>74</td>\n      <td>1</td>\n      <td>0</td>\n      <td>1</td>\n      <td>0</td>\n      <td>0</td>\n      <td>0</td>\n      <td>1</td>\n      <td>1</td>\n      <td>...</td>\n      <td>2.407679</td>\n      <td>5.665643</td>\n      <td>2.753091</td>\n      <td>8.153461</td>\n      <td>5.492465</td>\n      <td>5.567165</td>\n      <td>14.648622</td>\n      <td>7.654479</td>\n      <td>1.542951</td>\n      <td>0.968570</td>\n    </tr>\n  </tbody>\n</table>\n<p>209 rows × 110 columns</p>\n</div>"
     },
     "execution_count": 13,
     "metadata": {},
     "output_type": "execute_result"
    }
   ],
   "source": [
    "meta_file"
   ]
  },
  {
   "cell_type": "code",
   "execution_count": 14,
   "id": "0b6d41ba",
   "metadata": {},
   "outputs": [],
   "source": [
    "def format_columns(df):\n",
    "    '''\n",
    "    Description: This function aims to format all columns in a given dataset.\n",
    "                 It removes special characters, replaces spaces with _, \\\n",
    "                 and converts to lowercase.\n",
    "    Parameters: df, the DataFrame to format.\n",
    "    '''\n",
    "    import re\n",
    "    \n",
    "    df.columns = [re.sub('[^A-Za-z0-9 _]+', '', c).replace(' ', '_').lower() \\\n",
    "                    for c in df.columns]\n",
    "    return df"
   ]
  },
  {
   "cell_type": "code",
   "execution_count": 15,
   "id": "4bd7dda7",
   "metadata": {},
   "outputs": [],
   "source": [
    "# Make all columns lowercase and regex\n",
    "meta_file = format_columns(meta_file)"
   ]
  },
  {
   "cell_type": "markdown",
   "id": "e24d5f2d",
   "metadata": {},
   "source": [
    "### Permutations of Metadata for Feature Selection"
   ]
  },
  {
   "cell_type": "code",
   "execution_count": 16,
   "id": "375ef237",
   "metadata": {},
   "outputs": [
    {
     "data": {
      "text/plain": "       patient_id  age_at_initial_pathologic_diagnosis  gender_female  \\\n0    TCGA-05-4249                                   67              0   \n1    TCGA-05-4389                                   70              0   \n2    TCGA-05-4390                                   58              1   \n3    TCGA-05-4398                                   47              1   \n4    TCGA-05-4415                                   57              0   \n..            ...                                  ...            ...   \n204  TCGA-MP-A5C7                                   76              1   \n205  TCGA-NJ-A4YF                                   50              1   \n206  TCGA-NJ-A4YG                                   65              0   \n207  TCGA-NJ-A4YQ                                   69              1   \n208  TCGA-O1-A52J                                   74              1   \n\n     gender_male  tumor_stage_early  tumor_stage_late  tumor_stage_na  \\\n0              1                  1                 0               0   \n1              1                  1                 0               0   \n2              0                  1                 0               0   \n3              0                  0                 1               0   \n4              1                  0                 1               0   \n..           ...                ...               ...             ...   \n204            0                  1                 0               0   \n205            0                  1                 0               0   \n206            1                  1                 0               0   \n207            0                  1                 0               0   \n208            0                  1                 0               0   \n\n     is_smoker_false  is_smoker_true  label  ...  lrrc66339977  \\\n0                  0               1      1  ...      0.402722   \n1                  0               1      1  ...      6.441384   \n2                  0               1      1  ...      0.712552   \n3                  0               1      1  ...      2.686411   \n4                  0               1      0  ...      1.688046   \n..               ...             ...    ...  ...           ...   \n204                0               1      1  ...      1.166651   \n205                0               1      1  ...      4.728813   \n206                0               1      1  ...      1.107487   \n207                0               1      1  ...      5.966225   \n208                0               1      1  ...      2.407679   \n\n     hsd17b13345275  il1a3552    jag1182  wfdc12128488  odz355714  lect111061  \\\n0          4.826106  4.576456   9.700388      0.000000   6.242107    3.228188   \n1          8.828743  2.671090   9.622506      1.004825   5.808220    0.417488   \n2          1.187324  2.754460   8.285555      5.149272   5.869881    1.187324   \n3          2.532242  6.906470   8.467524      0.283922   6.611485    0.000000   \n4          1.222372  0.000000  10.797394      0.000000   7.485604    0.000000   \n..              ...       ...        ...           ...        ...         ...   \n204        9.656234  1.166651   9.136694      0.500802   3.151307    0.000000   \n205        0.684819  2.013534   7.428980      0.000000   5.382138    0.000000   \n206        4.240192  3.948059   8.988480      2.158402   5.487998    1.107487   \n207        4.706525  2.733289   9.860213      0.702835   6.289333    0.000000   \n208        5.665643  2.753091   8.153461      5.492465   5.567165   14.648622   \n\n     ap1s3130340  nefl4747  hnf4a3172  \n0       8.063826  3.369704   1.962586  \n1       7.918505  2.122905   8.220693  \n2       7.699954  0.000000   0.712552  \n3       7.730613  0.902961   2.869299  \n4      10.511861  7.330917   3.429991  \n..           ...       ...        ...  \n204     8.024381  0.000000   3.398432  \n205     7.722514  2.215741   0.000000  \n206     7.839582  3.088447   4.722696  \n207     7.922923  1.173447   1.173447  \n208     7.654479  1.542951   0.968570  \n\n[209 rows x 110 columns]",
      "text/html": "<div>\n<style scoped>\n    .dataframe tbody tr th:only-of-type {\n        vertical-align: middle;\n    }\n\n    .dataframe tbody tr th {\n        vertical-align: top;\n    }\n\n    .dataframe thead th {\n        text-align: right;\n    }\n</style>\n<table border=\"1\" class=\"dataframe\">\n  <thead>\n    <tr style=\"text-align: right;\">\n      <th></th>\n      <th>patient_id</th>\n      <th>age_at_initial_pathologic_diagnosis</th>\n      <th>gender_female</th>\n      <th>gender_male</th>\n      <th>tumor_stage_early</th>\n      <th>tumor_stage_late</th>\n      <th>tumor_stage_na</th>\n      <th>is_smoker_false</th>\n      <th>is_smoker_true</th>\n      <th>label</th>\n      <th>...</th>\n      <th>lrrc66339977</th>\n      <th>hsd17b13345275</th>\n      <th>il1a3552</th>\n      <th>jag1182</th>\n      <th>wfdc12128488</th>\n      <th>odz355714</th>\n      <th>lect111061</th>\n      <th>ap1s3130340</th>\n      <th>nefl4747</th>\n      <th>hnf4a3172</th>\n    </tr>\n  </thead>\n  <tbody>\n    <tr>\n      <th>0</th>\n      <td>TCGA-05-4249</td>\n      <td>67</td>\n      <td>0</td>\n      <td>1</td>\n      <td>1</td>\n      <td>0</td>\n      <td>0</td>\n      <td>0</td>\n      <td>1</td>\n      <td>1</td>\n      <td>...</td>\n      <td>0.402722</td>\n      <td>4.826106</td>\n      <td>4.576456</td>\n      <td>9.700388</td>\n      <td>0.000000</td>\n      <td>6.242107</td>\n      <td>3.228188</td>\n      <td>8.063826</td>\n      <td>3.369704</td>\n      <td>1.962586</td>\n    </tr>\n    <tr>\n      <th>1</th>\n      <td>TCGA-05-4389</td>\n      <td>70</td>\n      <td>0</td>\n      <td>1</td>\n      <td>1</td>\n      <td>0</td>\n      <td>0</td>\n      <td>0</td>\n      <td>1</td>\n      <td>1</td>\n      <td>...</td>\n      <td>6.441384</td>\n      <td>8.828743</td>\n      <td>2.671090</td>\n      <td>9.622506</td>\n      <td>1.004825</td>\n      <td>5.808220</td>\n      <td>0.417488</td>\n      <td>7.918505</td>\n      <td>2.122905</td>\n      <td>8.220693</td>\n    </tr>\n    <tr>\n      <th>2</th>\n      <td>TCGA-05-4390</td>\n      <td>58</td>\n      <td>1</td>\n      <td>0</td>\n      <td>1</td>\n      <td>0</td>\n      <td>0</td>\n      <td>0</td>\n      <td>1</td>\n      <td>1</td>\n      <td>...</td>\n      <td>0.712552</td>\n      <td>1.187324</td>\n      <td>2.754460</td>\n      <td>8.285555</td>\n      <td>5.149272</td>\n      <td>5.869881</td>\n      <td>1.187324</td>\n      <td>7.699954</td>\n      <td>0.000000</td>\n      <td>0.712552</td>\n    </tr>\n    <tr>\n      <th>3</th>\n      <td>TCGA-05-4398</td>\n      <td>47</td>\n      <td>1</td>\n      <td>0</td>\n      <td>0</td>\n      <td>1</td>\n      <td>0</td>\n      <td>0</td>\n      <td>1</td>\n      <td>1</td>\n      <td>...</td>\n      <td>2.686411</td>\n      <td>2.532242</td>\n      <td>6.906470</td>\n      <td>8.467524</td>\n      <td>0.283922</td>\n      <td>6.611485</td>\n      <td>0.000000</td>\n      <td>7.730613</td>\n      <td>0.902961</td>\n      <td>2.869299</td>\n    </tr>\n    <tr>\n      <th>4</th>\n      <td>TCGA-05-4415</td>\n      <td>57</td>\n      <td>0</td>\n      <td>1</td>\n      <td>0</td>\n      <td>1</td>\n      <td>0</td>\n      <td>0</td>\n      <td>1</td>\n      <td>0</td>\n      <td>...</td>\n      <td>1.688046</td>\n      <td>1.222372</td>\n      <td>0.000000</td>\n      <td>10.797394</td>\n      <td>0.000000</td>\n      <td>7.485604</td>\n      <td>0.000000</td>\n      <td>10.511861</td>\n      <td>7.330917</td>\n      <td>3.429991</td>\n    </tr>\n    <tr>\n      <th>...</th>\n      <td>...</td>\n      <td>...</td>\n      <td>...</td>\n      <td>...</td>\n      <td>...</td>\n      <td>...</td>\n      <td>...</td>\n      <td>...</td>\n      <td>...</td>\n      <td>...</td>\n      <td>...</td>\n      <td>...</td>\n      <td>...</td>\n      <td>...</td>\n      <td>...</td>\n      <td>...</td>\n      <td>...</td>\n      <td>...</td>\n      <td>...</td>\n      <td>...</td>\n      <td>...</td>\n    </tr>\n    <tr>\n      <th>204</th>\n      <td>TCGA-MP-A5C7</td>\n      <td>76</td>\n      <td>1</td>\n      <td>0</td>\n      <td>1</td>\n      <td>0</td>\n      <td>0</td>\n      <td>0</td>\n      <td>1</td>\n      <td>1</td>\n      <td>...</td>\n      <td>1.166651</td>\n      <td>9.656234</td>\n      <td>1.166651</td>\n      <td>9.136694</td>\n      <td>0.500802</td>\n      <td>3.151307</td>\n      <td>0.000000</td>\n      <td>8.024381</td>\n      <td>0.000000</td>\n      <td>3.398432</td>\n    </tr>\n    <tr>\n      <th>205</th>\n      <td>TCGA-NJ-A4YF</td>\n      <td>50</td>\n      <td>1</td>\n      <td>0</td>\n      <td>1</td>\n      <td>0</td>\n      <td>0</td>\n      <td>0</td>\n      <td>1</td>\n      <td>1</td>\n      <td>...</td>\n      <td>4.728813</td>\n      <td>0.684819</td>\n      <td>2.013534</td>\n      <td>7.428980</td>\n      <td>0.000000</td>\n      <td>5.382138</td>\n      <td>0.000000</td>\n      <td>7.722514</td>\n      <td>2.215741</td>\n      <td>0.000000</td>\n    </tr>\n    <tr>\n      <th>206</th>\n      <td>TCGA-NJ-A4YG</td>\n      <td>65</td>\n      <td>0</td>\n      <td>1</td>\n      <td>1</td>\n      <td>0</td>\n      <td>0</td>\n      <td>0</td>\n      <td>1</td>\n      <td>1</td>\n      <td>...</td>\n      <td>1.107487</td>\n      <td>4.240192</td>\n      <td>3.948059</td>\n      <td>8.988480</td>\n      <td>2.158402</td>\n      <td>5.487998</td>\n      <td>1.107487</td>\n      <td>7.839582</td>\n      <td>3.088447</td>\n      <td>4.722696</td>\n    </tr>\n    <tr>\n      <th>207</th>\n      <td>TCGA-NJ-A4YQ</td>\n      <td>69</td>\n      <td>1</td>\n      <td>0</td>\n      <td>1</td>\n      <td>0</td>\n      <td>0</td>\n      <td>0</td>\n      <td>1</td>\n      <td>1</td>\n      <td>...</td>\n      <td>5.966225</td>\n      <td>4.706525</td>\n      <td>2.733289</td>\n      <td>9.860213</td>\n      <td>0.702835</td>\n      <td>6.289333</td>\n      <td>0.000000</td>\n      <td>7.922923</td>\n      <td>1.173447</td>\n      <td>1.173447</td>\n    </tr>\n    <tr>\n      <th>208</th>\n      <td>TCGA-O1-A52J</td>\n      <td>74</td>\n      <td>1</td>\n      <td>0</td>\n      <td>1</td>\n      <td>0</td>\n      <td>0</td>\n      <td>0</td>\n      <td>1</td>\n      <td>1</td>\n      <td>...</td>\n      <td>2.407679</td>\n      <td>5.665643</td>\n      <td>2.753091</td>\n      <td>8.153461</td>\n      <td>5.492465</td>\n      <td>5.567165</td>\n      <td>14.648622</td>\n      <td>7.654479</td>\n      <td>1.542951</td>\n      <td>0.968570</td>\n    </tr>\n  </tbody>\n</table>\n<p>209 rows × 110 columns</p>\n</div>"
     },
     "execution_count": 16,
     "metadata": {},
     "output_type": "execute_result"
    }
   ],
   "source": [
    "meta_file"
   ]
  },
  {
   "cell_type": "code",
   "execution_count": 17,
   "id": "11d21275",
   "metadata": {},
   "outputs": [],
   "source": [
    "# Grab all metadata features \n",
    "label_index = meta_file.columns.get_loc('label')\n",
    "metadata_features = meta_file.iloc[:,1:label_index]\n",
    "\n",
    "# Identify top 100 expression data\n",
    "expression_features = meta_file\n",
    "y_label = expression_features['label']\n",
    "expression_features = expression_features.drop(['patient_id','label'], axis=1)"
   ]
  },
  {
   "cell_type": "code",
   "execution_count": 18,
   "id": "48135e55",
   "metadata": {},
   "outputs": [
    {
     "data": {
      "text/plain": "     age_at_initial_pathologic_diagnosis  gender_female  gender_male  \\\n0                                     67              0            1   \n1                                     70              0            1   \n2                                     58              1            0   \n3                                     47              1            0   \n4                                     57              0            1   \n..                                   ...            ...          ...   \n204                                   76              1            0   \n205                                   50              1            0   \n206                                   65              0            1   \n207                                   69              1            0   \n208                                   74              1            0   \n\n     tumor_stage_early  tumor_stage_late  tumor_stage_na  is_smoker_false  \\\n0                    1                 0               0                0   \n1                    1                 0               0                0   \n2                    1                 0               0                0   \n3                    0                 1               0                0   \n4                    0                 1               0                0   \n..                 ...               ...             ...              ...   \n204                  1                 0               0                0   \n205                  1                 0               0                0   \n206                  1                 0               0                0   \n207                  1                 0               0                0   \n208                  1                 0               0                0   \n\n     is_smoker_true  mgat5b146664  crisp310321  ...  lrrc66339977  \\\n0                 1      4.724356     0.000000  ...      0.402722   \n1                 1      1.421102     3.067398  ...      6.441384   \n2                 1      1.543991     0.000000  ...      0.712552   \n3                 1      4.548498     0.000000  ...      2.686411   \n4                 1      8.520509    11.019361  ...      1.688046   \n..              ...           ...          ...  ...           ...   \n204               1      1.620539     0.000000  ...      1.166651   \n205               1      4.728813     0.684819  ...      4.728813   \n206               1      3.948059     3.714213  ...      1.107487   \n207               1      4.989121     3.544943  ...      5.966225   \n208               1      2.120783     0.000000  ...      2.407679   \n\n     hsd17b13345275  il1a3552    jag1182  wfdc12128488  odz355714  lect111061  \\\n0          4.826106  4.576456   9.700388      0.000000   6.242107    3.228188   \n1          8.828743  2.671090   9.622506      1.004825   5.808220    0.417488   \n2          1.187324  2.754460   8.285555      5.149272   5.869881    1.187324   \n3          2.532242  6.906470   8.467524      0.283922   6.611485    0.000000   \n4          1.222372  0.000000  10.797394      0.000000   7.485604    0.000000   \n..              ...       ...        ...           ...        ...         ...   \n204        9.656234  1.166651   9.136694      0.500802   3.151307    0.000000   \n205        0.684819  2.013534   7.428980      0.000000   5.382138    0.000000   \n206        4.240192  3.948059   8.988480      2.158402   5.487998    1.107487   \n207        4.706525  2.733289   9.860213      0.702835   6.289333    0.000000   \n208        5.665643  2.753091   8.153461      5.492465   5.567165   14.648622   \n\n     ap1s3130340  nefl4747  hnf4a3172  \n0       8.063826  3.369704   1.962586  \n1       7.918505  2.122905   8.220693  \n2       7.699954  0.000000   0.712552  \n3       7.730613  0.902961   2.869299  \n4      10.511861  7.330917   3.429991  \n..           ...       ...        ...  \n204     8.024381  0.000000   3.398432  \n205     7.722514  2.215741   0.000000  \n206     7.839582  3.088447   4.722696  \n207     7.922923  1.173447   1.173447  \n208     7.654479  1.542951   0.968570  \n\n[209 rows x 108 columns]",
      "text/html": "<div>\n<style scoped>\n    .dataframe tbody tr th:only-of-type {\n        vertical-align: middle;\n    }\n\n    .dataframe tbody tr th {\n        vertical-align: top;\n    }\n\n    .dataframe thead th {\n        text-align: right;\n    }\n</style>\n<table border=\"1\" class=\"dataframe\">\n  <thead>\n    <tr style=\"text-align: right;\">\n      <th></th>\n      <th>age_at_initial_pathologic_diagnosis</th>\n      <th>gender_female</th>\n      <th>gender_male</th>\n      <th>tumor_stage_early</th>\n      <th>tumor_stage_late</th>\n      <th>tumor_stage_na</th>\n      <th>is_smoker_false</th>\n      <th>is_smoker_true</th>\n      <th>mgat5b146664</th>\n      <th>crisp310321</th>\n      <th>...</th>\n      <th>lrrc66339977</th>\n      <th>hsd17b13345275</th>\n      <th>il1a3552</th>\n      <th>jag1182</th>\n      <th>wfdc12128488</th>\n      <th>odz355714</th>\n      <th>lect111061</th>\n      <th>ap1s3130340</th>\n      <th>nefl4747</th>\n      <th>hnf4a3172</th>\n    </tr>\n  </thead>\n  <tbody>\n    <tr>\n      <th>0</th>\n      <td>67</td>\n      <td>0</td>\n      <td>1</td>\n      <td>1</td>\n      <td>0</td>\n      <td>0</td>\n      <td>0</td>\n      <td>1</td>\n      <td>4.724356</td>\n      <td>0.000000</td>\n      <td>...</td>\n      <td>0.402722</td>\n      <td>4.826106</td>\n      <td>4.576456</td>\n      <td>9.700388</td>\n      <td>0.000000</td>\n      <td>6.242107</td>\n      <td>3.228188</td>\n      <td>8.063826</td>\n      <td>3.369704</td>\n      <td>1.962586</td>\n    </tr>\n    <tr>\n      <th>1</th>\n      <td>70</td>\n      <td>0</td>\n      <td>1</td>\n      <td>1</td>\n      <td>0</td>\n      <td>0</td>\n      <td>0</td>\n      <td>1</td>\n      <td>1.421102</td>\n      <td>3.067398</td>\n      <td>...</td>\n      <td>6.441384</td>\n      <td>8.828743</td>\n      <td>2.671090</td>\n      <td>9.622506</td>\n      <td>1.004825</td>\n      <td>5.808220</td>\n      <td>0.417488</td>\n      <td>7.918505</td>\n      <td>2.122905</td>\n      <td>8.220693</td>\n    </tr>\n    <tr>\n      <th>2</th>\n      <td>58</td>\n      <td>1</td>\n      <td>0</td>\n      <td>1</td>\n      <td>0</td>\n      <td>0</td>\n      <td>0</td>\n      <td>1</td>\n      <td>1.543991</td>\n      <td>0.000000</td>\n      <td>...</td>\n      <td>0.712552</td>\n      <td>1.187324</td>\n      <td>2.754460</td>\n      <td>8.285555</td>\n      <td>5.149272</td>\n      <td>5.869881</td>\n      <td>1.187324</td>\n      <td>7.699954</td>\n      <td>0.000000</td>\n      <td>0.712552</td>\n    </tr>\n    <tr>\n      <th>3</th>\n      <td>47</td>\n      <td>1</td>\n      <td>0</td>\n      <td>0</td>\n      <td>1</td>\n      <td>0</td>\n      <td>0</td>\n      <td>1</td>\n      <td>4.548498</td>\n      <td>0.000000</td>\n      <td>...</td>\n      <td>2.686411</td>\n      <td>2.532242</td>\n      <td>6.906470</td>\n      <td>8.467524</td>\n      <td>0.283922</td>\n      <td>6.611485</td>\n      <td>0.000000</td>\n      <td>7.730613</td>\n      <td>0.902961</td>\n      <td>2.869299</td>\n    </tr>\n    <tr>\n      <th>4</th>\n      <td>57</td>\n      <td>0</td>\n      <td>1</td>\n      <td>0</td>\n      <td>1</td>\n      <td>0</td>\n      <td>0</td>\n      <td>1</td>\n      <td>8.520509</td>\n      <td>11.019361</td>\n      <td>...</td>\n      <td>1.688046</td>\n      <td>1.222372</td>\n      <td>0.000000</td>\n      <td>10.797394</td>\n      <td>0.000000</td>\n      <td>7.485604</td>\n      <td>0.000000</td>\n      <td>10.511861</td>\n      <td>7.330917</td>\n      <td>3.429991</td>\n    </tr>\n    <tr>\n      <th>...</th>\n      <td>...</td>\n      <td>...</td>\n      <td>...</td>\n      <td>...</td>\n      <td>...</td>\n      <td>...</td>\n      <td>...</td>\n      <td>...</td>\n      <td>...</td>\n      <td>...</td>\n      <td>...</td>\n      <td>...</td>\n      <td>...</td>\n      <td>...</td>\n      <td>...</td>\n      <td>...</td>\n      <td>...</td>\n      <td>...</td>\n      <td>...</td>\n      <td>...</td>\n      <td>...</td>\n    </tr>\n    <tr>\n      <th>204</th>\n      <td>76</td>\n      <td>1</td>\n      <td>0</td>\n      <td>1</td>\n      <td>0</td>\n      <td>0</td>\n      <td>0</td>\n      <td>1</td>\n      <td>1.620539</td>\n      <td>0.000000</td>\n      <td>...</td>\n      <td>1.166651</td>\n      <td>9.656234</td>\n      <td>1.166651</td>\n      <td>9.136694</td>\n      <td>0.500802</td>\n      <td>3.151307</td>\n      <td>0.000000</td>\n      <td>8.024381</td>\n      <td>0.000000</td>\n      <td>3.398432</td>\n    </tr>\n    <tr>\n      <th>205</th>\n      <td>50</td>\n      <td>1</td>\n      <td>0</td>\n      <td>1</td>\n      <td>0</td>\n      <td>0</td>\n      <td>0</td>\n      <td>1</td>\n      <td>4.728813</td>\n      <td>0.684819</td>\n      <td>...</td>\n      <td>4.728813</td>\n      <td>0.684819</td>\n      <td>2.013534</td>\n      <td>7.428980</td>\n      <td>0.000000</td>\n      <td>5.382138</td>\n      <td>0.000000</td>\n      <td>7.722514</td>\n      <td>2.215741</td>\n      <td>0.000000</td>\n    </tr>\n    <tr>\n      <th>206</th>\n      <td>65</td>\n      <td>0</td>\n      <td>1</td>\n      <td>1</td>\n      <td>0</td>\n      <td>0</td>\n      <td>0</td>\n      <td>1</td>\n      <td>3.948059</td>\n      <td>3.714213</td>\n      <td>...</td>\n      <td>1.107487</td>\n      <td>4.240192</td>\n      <td>3.948059</td>\n      <td>8.988480</td>\n      <td>2.158402</td>\n      <td>5.487998</td>\n      <td>1.107487</td>\n      <td>7.839582</td>\n      <td>3.088447</td>\n      <td>4.722696</td>\n    </tr>\n    <tr>\n      <th>207</th>\n      <td>69</td>\n      <td>1</td>\n      <td>0</td>\n      <td>1</td>\n      <td>0</td>\n      <td>0</td>\n      <td>0</td>\n      <td>1</td>\n      <td>4.989121</td>\n      <td>3.544943</td>\n      <td>...</td>\n      <td>5.966225</td>\n      <td>4.706525</td>\n      <td>2.733289</td>\n      <td>9.860213</td>\n      <td>0.702835</td>\n      <td>6.289333</td>\n      <td>0.000000</td>\n      <td>7.922923</td>\n      <td>1.173447</td>\n      <td>1.173447</td>\n    </tr>\n    <tr>\n      <th>208</th>\n      <td>74</td>\n      <td>1</td>\n      <td>0</td>\n      <td>1</td>\n      <td>0</td>\n      <td>0</td>\n      <td>0</td>\n      <td>1</td>\n      <td>2.120783</td>\n      <td>0.000000</td>\n      <td>...</td>\n      <td>2.407679</td>\n      <td>5.665643</td>\n      <td>2.753091</td>\n      <td>8.153461</td>\n      <td>5.492465</td>\n      <td>5.567165</td>\n      <td>14.648622</td>\n      <td>7.654479</td>\n      <td>1.542951</td>\n      <td>0.968570</td>\n    </tr>\n  </tbody>\n</table>\n<p>209 rows × 108 columns</p>\n</div>"
     },
     "execution_count": 18,
     "metadata": {},
     "output_type": "execute_result"
    }
   ],
   "source": [
    "expression_features"
   ]
  },
  {
   "cell_type": "markdown",
   "id": "5bb61875",
   "metadata": {},
   "source": [
    "### Use XGBoost for Feature Selection"
   ]
  },
  {
   "cell_type": "code",
   "execution_count": 20,
   "id": "d9b15a54",
   "metadata": {},
   "outputs": [
    {
     "name": "stdout",
     "output_type": "stream",
     "text": [
      "[0.04215382 0.00890502 0.         0.         0.05082494 0.\n",
      " 0.         0.         0.0318741  0.00362291 0.00263265 0.13721888\n",
      " 0.00215744 0.00439608 0.         0.01476005 0.00382631 0.01312962\n",
      " 0.00570702 0.00345567 0.01488149 0.00921074 0.00122515 0.01151016\n",
      " 0.00799293 0.0038064  0.00560917 0.         0.00255495 0.01335705\n",
      " 0.         0.00428976 0.00380519 0.01456672 0.00166021 0.0115633\n",
      " 0.         0.03016943 0.00931653 0.         0.00126257 0.01714271\n",
      " 0.02936892 0.00329902 0.01321169 0.00484002 0.01823827 0.01896969\n",
      " 0.         0.00554646 0.0016979  0.02326731 0.         0.00234143\n",
      " 0.00363824 0.00957739 0.00872556 0.00275897 0.00133701 0.0173469\n",
      " 0.01285526 0.00589049 0.02938594 0.00272894 0.0052728  0.00175717\n",
      " 0.00143498 0.02809474 0.02023635 0.00150072 0.00522004 0.00237132\n",
      " 0.00781822 0.         0.00667062 0.00528029 0.         0.00220539\n",
      " 0.00899779 0.00058479 0.         0.01969685 0.00531797 0.02531493\n",
      " 0.02139435 0.02084024 0.         0.00081285 0.00037554 0.\n",
      " 0.00963992 0.00155502 0.01121082 0.         0.03313479 0.01522764\n",
      " 0.00630349 0.00141148 0.00848644 0.         0.         0.00179486\n",
      " 0.00158393 0.         0.         0.00070726 0.01127207 0.00285996]\n"
     ]
    },
    {
     "data": {
      "text/plain": "<Figure size 640x480 with 1 Axes>",
      "image/png": "[encoded data removed]"
     },
     "metadata": {},
     "output_type": "display_data"
    }
   ],
   "source": [
    "from xgboost import XGBClassifier\n",
    "from matplotlib import pyplot\n",
    "from xgboost import plot_importance\n",
    "\n",
    "# Define dataset as all features\n",
    "total_features = expression_features\n",
    "y_label = np.where(y_label == 0, 1, np.where(y_label == 1, 0, y_label))\n",
    "X_train, X_test, y_train, y_test = train_test_split(total_features, y_label, test_size=0.2, random_state=42)\n",
    "\n",
    "# fit model\n",
    "model = XGBClassifier()\n",
    "model.fit(X_train, y_train)\n",
    "\n",
    "# feature importance\n",
    "print(model.feature_importances_)\n",
    "# plot\n",
    "pyplot.bar(range(len(model.feature_importances_)), model.feature_importances_)\n",
    "pyplot.show()"
   ]
  },
  {
   "cell_type": "markdown",
   "id": "b1a10af5",
   "metadata": {},
   "source": [
    "#### Using feature importances, perform search over various thresholds with XGBoost"
   ]
  },
  {
   "cell_type": "code",
   "execution_count": 98,
   "id": "37070f78",
   "metadata": {},
   "outputs": [],
   "source": [
    "model = XGBClassifier()\n",
    "\n",
    "# Select features using the threshold\n",
    "selection = SelectFromModel(model).fit(X_train, y_train)"
   ]
  },
  {
   "cell_type": "code",
   "execution_count": 99,
   "id": "39f9f921",
   "metadata": {},
   "outputs": [
    {
     "data": {
      "text/plain": [
       "30"
      ]
     },
     "execution_count": 99,
     "metadata": {},
     "output_type": "execute_result"
    }
   ],
   "source": [
    "cols = metadata_final.columns.to_list()\n",
    "cols.extend(expression_features.columns.to_list())\n",
    "top_features = [c for b, c, in zip(selection.get_support(), cols) if b]\n",
    "len(top_features)"
   ]
  },
  {
   "cell_type": "code",
   "execution_count": 100,
   "id": "d49783dc",
   "metadata": {},
   "outputs": [
    {
     "name": "stdout",
     "output_type": "stream",
     "text": [
      "Fitting 5 folds for each of 30 candidates, totalling 150 fits\n",
      "Thresh=0.000, n=108, F1 Score: 28.57%\n",
      "Best Performer: {'eval_metric': <function f1_score at 0x7ff6bbe3a940>, 'learning_rate': 0.01, 'max_depth': 10, 'n_estimators': 10, 'random_state': 42}\n",
      "\n",
      "Fitting 5 folds for each of 30 candidates, totalling 150 fits\n",
      "Thresh=0.001, n=86, F1 Score: 29.63%\n",
      "Best Performer: {'eval_metric': <function f1_score at 0x7ff6bbe3a940>, 'learning_rate': 0.01, 'max_depth': 5, 'n_estimators': 10, 'random_state': 42}\n",
      "\n",
      "Fitting 5 folds for each of 30 candidates, totalling 150 fits\n",
      "Thresh=0.001, n=81, F1 Score: 29.63%\n",
      "Best Performer: {'eval_metric': <function f1_score at 0x7ff6bbe3a940>, 'learning_rate': 0.01, 'max_depth': 5, 'n_estimators': 10, 'random_state': 42}\n",
      "\n",
      "Fitting 5 folds for each of 30 candidates, totalling 150 fits\n"
     ]
    },
    {
     "ename": "KeyboardInterrupt",
     "evalue": "",
     "output_type": "error",
     "traceback": [
      "\u001B[0;31m---------------------------------------------------------------------------\u001B[0m",
      "\u001B[0;31mKeyboardInterrupt\u001B[0m                         Traceback (most recent call last)",
      "Cell \u001B[0;32mIn[100], line 25\u001B[0m\n\u001B[1;32m     23\u001B[0m selection_model \u001B[38;5;241m=\u001B[39m XGBClassifier()\n\u001B[1;32m     24\u001B[0m grid_search \u001B[38;5;241m=\u001B[39m GridSearchCV(selection_model, param_grid, cv\u001B[38;5;241m=\u001B[39m\u001B[38;5;241m5\u001B[39m, scoring\u001B[38;5;241m=\u001B[39m\u001B[38;5;124m'\u001B[39m\u001B[38;5;124mf1\u001B[39m\u001B[38;5;124m'\u001B[39m, verbose\u001B[38;5;241m=\u001B[39m\u001B[38;5;241m1\u001B[39m)\n\u001B[0;32m---> 25\u001B[0m \u001B[43mgrid_search\u001B[49m\u001B[38;5;241;43m.\u001B[39;49m\u001B[43mfit\u001B[49m\u001B[43m(\u001B[49m\u001B[43mselect_X_train\u001B[49m\u001B[43m,\u001B[49m\u001B[43m \u001B[49m\u001B[43my_train\u001B[49m\u001B[43m)\u001B[49m\n\u001B[1;32m     27\u001B[0m \u001B[38;5;66;03m# Evaluate the model\u001B[39;00m\n\u001B[1;32m     28\u001B[0m select_X_test \u001B[38;5;241m=\u001B[39m selection\u001B[38;5;241m.\u001B[39mtransform(X_test)\n",
      "File \u001B[0;32m/opt/anaconda3/envs/ece204/lib/python3.9/site-packages/sklearn/model_selection/_search.py:874\u001B[0m, in \u001B[0;36mBaseSearchCV.fit\u001B[0;34m(self, X, y, groups, **fit_params)\u001B[0m\n\u001B[1;32m    868\u001B[0m     results \u001B[38;5;241m=\u001B[39m \u001B[38;5;28mself\u001B[39m\u001B[38;5;241m.\u001B[39m_format_results(\n\u001B[1;32m    869\u001B[0m         all_candidate_params, n_splits, all_out, all_more_results\n\u001B[1;32m    870\u001B[0m     )\n\u001B[1;32m    872\u001B[0m     \u001B[38;5;28;01mreturn\u001B[39;00m results\n\u001B[0;32m--> 874\u001B[0m \u001B[38;5;28;43mself\u001B[39;49m\u001B[38;5;241;43m.\u001B[39;49m\u001B[43m_run_search\u001B[49m\u001B[43m(\u001B[49m\u001B[43mevaluate_candidates\u001B[49m\u001B[43m)\u001B[49m\n\u001B[1;32m    876\u001B[0m \u001B[38;5;66;03m# multimetric is determined here because in the case of a callable\u001B[39;00m\n\u001B[1;32m    877\u001B[0m \u001B[38;5;66;03m# self.scoring the return type is only known after calling\u001B[39;00m\n\u001B[1;32m    878\u001B[0m first_test_score \u001B[38;5;241m=\u001B[39m all_out[\u001B[38;5;241m0\u001B[39m][\u001B[38;5;124m\"\u001B[39m\u001B[38;5;124mtest_scores\u001B[39m\u001B[38;5;124m\"\u001B[39m]\n",
      "File \u001B[0;32m/opt/anaconda3/envs/ece204/lib/python3.9/site-packages/sklearn/model_selection/_search.py:1388\u001B[0m, in \u001B[0;36mGridSearchCV._run_search\u001B[0;34m(self, evaluate_candidates)\u001B[0m\n\u001B[1;32m   1386\u001B[0m \u001B[38;5;28;01mdef\u001B[39;00m \u001B[38;5;21m_run_search\u001B[39m(\u001B[38;5;28mself\u001B[39m, evaluate_candidates):\n\u001B[1;32m   1387\u001B[0m     \u001B[38;5;124;03m\"\"\"Search all candidates in param_grid\"\"\"\u001B[39;00m\n\u001B[0;32m-> 1388\u001B[0m     \u001B[43mevaluate_candidates\u001B[49m\u001B[43m(\u001B[49m\u001B[43mParameterGrid\u001B[49m\u001B[43m(\u001B[49m\u001B[38;5;28;43mself\u001B[39;49m\u001B[38;5;241;43m.\u001B[39;49m\u001B[43mparam_grid\u001B[49m\u001B[43m)\u001B[49m\u001B[43m)\u001B[49m\n",
      "File \u001B[0;32m/opt/anaconda3/envs/ece204/lib/python3.9/site-packages/sklearn/model_selection/_search.py:821\u001B[0m, in \u001B[0;36mBaseSearchCV.fit.<locals>.evaluate_candidates\u001B[0;34m(candidate_params, cv, more_results)\u001B[0m\n\u001B[1;32m    813\u001B[0m \u001B[38;5;28;01mif\u001B[39;00m \u001B[38;5;28mself\u001B[39m\u001B[38;5;241m.\u001B[39mverbose \u001B[38;5;241m>\u001B[39m \u001B[38;5;241m0\u001B[39m:\n\u001B[1;32m    814\u001B[0m     \u001B[38;5;28mprint\u001B[39m(\n\u001B[1;32m    815\u001B[0m         \u001B[38;5;124m\"\u001B[39m\u001B[38;5;124mFitting \u001B[39m\u001B[38;5;132;01m{0}\u001B[39;00m\u001B[38;5;124m folds for each of \u001B[39m\u001B[38;5;132;01m{1}\u001B[39;00m\u001B[38;5;124m candidates,\u001B[39m\u001B[38;5;124m\"\u001B[39m\n\u001B[1;32m    816\u001B[0m         \u001B[38;5;124m\"\u001B[39m\u001B[38;5;124m totalling \u001B[39m\u001B[38;5;132;01m{2}\u001B[39;00m\u001B[38;5;124m fits\u001B[39m\u001B[38;5;124m\"\u001B[39m\u001B[38;5;241m.\u001B[39mformat(\n\u001B[1;32m    817\u001B[0m             n_splits, n_candidates, n_candidates \u001B[38;5;241m*\u001B[39m n_splits\n\u001B[1;32m    818\u001B[0m         )\n\u001B[1;32m    819\u001B[0m     )\n\u001B[0;32m--> 821\u001B[0m out \u001B[38;5;241m=\u001B[39m \u001B[43mparallel\u001B[49m\u001B[43m(\u001B[49m\n\u001B[1;32m    822\u001B[0m \u001B[43m    \u001B[49m\u001B[43mdelayed\u001B[49m\u001B[43m(\u001B[49m\u001B[43m_fit_and_score\u001B[49m\u001B[43m)\u001B[49m\u001B[43m(\u001B[49m\n\u001B[1;32m    823\u001B[0m \u001B[43m        \u001B[49m\u001B[43mclone\u001B[49m\u001B[43m(\u001B[49m\u001B[43mbase_estimator\u001B[49m\u001B[43m)\u001B[49m\u001B[43m,\u001B[49m\n\u001B[1;32m    824\u001B[0m \u001B[43m        \u001B[49m\u001B[43mX\u001B[49m\u001B[43m,\u001B[49m\n\u001B[1;32m    825\u001B[0m \u001B[43m        \u001B[49m\u001B[43my\u001B[49m\u001B[43m,\u001B[49m\n\u001B[1;32m    826\u001B[0m \u001B[43m        \u001B[49m\u001B[43mtrain\u001B[49m\u001B[38;5;241;43m=\u001B[39;49m\u001B[43mtrain\u001B[49m\u001B[43m,\u001B[49m\n\u001B[1;32m    827\u001B[0m \u001B[43m        \u001B[49m\u001B[43mtest\u001B[49m\u001B[38;5;241;43m=\u001B[39;49m\u001B[43mtest\u001B[49m\u001B[43m,\u001B[49m\n\u001B[1;32m    828\u001B[0m \u001B[43m        \u001B[49m\u001B[43mparameters\u001B[49m\u001B[38;5;241;43m=\u001B[39;49m\u001B[43mparameters\u001B[49m\u001B[43m,\u001B[49m\n\u001B[1;32m    829\u001B[0m \u001B[43m        \u001B[49m\u001B[43msplit_progress\u001B[49m\u001B[38;5;241;43m=\u001B[39;49m\u001B[43m(\u001B[49m\u001B[43msplit_idx\u001B[49m\u001B[43m,\u001B[49m\u001B[43m \u001B[49m\u001B[43mn_splits\u001B[49m\u001B[43m)\u001B[49m\u001B[43m,\u001B[49m\n\u001B[1;32m    830\u001B[0m \u001B[43m        \u001B[49m\u001B[43mcandidate_progress\u001B[49m\u001B[38;5;241;43m=\u001B[39;49m\u001B[43m(\u001B[49m\u001B[43mcand_idx\u001B[49m\u001B[43m,\u001B[49m\u001B[43m \u001B[49m\u001B[43mn_candidates\u001B[49m\u001B[43m)\u001B[49m\u001B[43m,\u001B[49m\n\u001B[1;32m    831\u001B[0m \u001B[43m        \u001B[49m\u001B[38;5;241;43m*\u001B[39;49m\u001B[38;5;241;43m*\u001B[39;49m\u001B[43mfit_and_score_kwargs\u001B[49m\u001B[43m,\u001B[49m\n\u001B[1;32m    832\u001B[0m \u001B[43m    \u001B[49m\u001B[43m)\u001B[49m\n\u001B[1;32m    833\u001B[0m \u001B[43m    \u001B[49m\u001B[38;5;28;43;01mfor\u001B[39;49;00m\u001B[43m \u001B[49m\u001B[43m(\u001B[49m\u001B[43mcand_idx\u001B[49m\u001B[43m,\u001B[49m\u001B[43m \u001B[49m\u001B[43mparameters\u001B[49m\u001B[43m)\u001B[49m\u001B[43m,\u001B[49m\u001B[43m \u001B[49m\u001B[43m(\u001B[49m\u001B[43msplit_idx\u001B[49m\u001B[43m,\u001B[49m\u001B[43m \u001B[49m\u001B[43m(\u001B[49m\u001B[43mtrain\u001B[49m\u001B[43m,\u001B[49m\u001B[43m \u001B[49m\u001B[43mtest\u001B[49m\u001B[43m)\u001B[49m\u001B[43m)\u001B[49m\u001B[43m \u001B[49m\u001B[38;5;129;43;01min\u001B[39;49;00m\u001B[43m \u001B[49m\u001B[43mproduct\u001B[49m\u001B[43m(\u001B[49m\n\u001B[1;32m    834\u001B[0m \u001B[43m        \u001B[49m\u001B[38;5;28;43menumerate\u001B[39;49m\u001B[43m(\u001B[49m\u001B[43mcandidate_params\u001B[49m\u001B[43m)\u001B[49m\u001B[43m,\u001B[49m\u001B[43m \u001B[49m\u001B[38;5;28;43menumerate\u001B[39;49m\u001B[43m(\u001B[49m\u001B[43mcv\u001B[49m\u001B[38;5;241;43m.\u001B[39;49m\u001B[43msplit\u001B[49m\u001B[43m(\u001B[49m\u001B[43mX\u001B[49m\u001B[43m,\u001B[49m\u001B[43m \u001B[49m\u001B[43my\u001B[49m\u001B[43m,\u001B[49m\u001B[43m \u001B[49m\u001B[43mgroups\u001B[49m\u001B[43m)\u001B[49m\u001B[43m)\u001B[49m\n\u001B[1;32m    835\u001B[0m \u001B[43m    \u001B[49m\u001B[43m)\u001B[49m\n\u001B[1;32m    836\u001B[0m \u001B[43m\u001B[49m\u001B[43m)\u001B[49m\n\u001B[1;32m    838\u001B[0m \u001B[38;5;28;01mif\u001B[39;00m \u001B[38;5;28mlen\u001B[39m(out) \u001B[38;5;241m<\u001B[39m \u001B[38;5;241m1\u001B[39m:\n\u001B[1;32m    839\u001B[0m     \u001B[38;5;28;01mraise\u001B[39;00m \u001B[38;5;167;01mValueError\u001B[39;00m(\n\u001B[1;32m    840\u001B[0m         \u001B[38;5;124m\"\u001B[39m\u001B[38;5;124mNo fits were performed. \u001B[39m\u001B[38;5;124m\"\u001B[39m\n\u001B[1;32m    841\u001B[0m         \u001B[38;5;124m\"\u001B[39m\u001B[38;5;124mWas the CV iterator empty? \u001B[39m\u001B[38;5;124m\"\u001B[39m\n\u001B[1;32m    842\u001B[0m         \u001B[38;5;124m\"\u001B[39m\u001B[38;5;124mWere there no candidates?\u001B[39m\u001B[38;5;124m\"\u001B[39m\n\u001B[1;32m    843\u001B[0m     )\n",
      "File \u001B[0;32m/opt/anaconda3/envs/ece204/lib/python3.9/site-packages/sklearn/utils/parallel.py:63\u001B[0m, in \u001B[0;36mParallel.__call__\u001B[0;34m(self, iterable)\u001B[0m\n\u001B[1;32m     58\u001B[0m config \u001B[38;5;241m=\u001B[39m get_config()\n\u001B[1;32m     59\u001B[0m iterable_with_config \u001B[38;5;241m=\u001B[39m (\n\u001B[1;32m     60\u001B[0m     (_with_config(delayed_func, config), args, kwargs)\n\u001B[1;32m     61\u001B[0m     \u001B[38;5;28;01mfor\u001B[39;00m delayed_func, args, kwargs \u001B[38;5;129;01min\u001B[39;00m iterable\n\u001B[1;32m     62\u001B[0m )\n\u001B[0;32m---> 63\u001B[0m \u001B[38;5;28;01mreturn\u001B[39;00m \u001B[38;5;28;43msuper\u001B[39;49m\u001B[43m(\u001B[49m\u001B[43m)\u001B[49m\u001B[38;5;241;43m.\u001B[39;49m\u001B[38;5;21;43m__call__\u001B[39;49m\u001B[43m(\u001B[49m\u001B[43miterable_with_config\u001B[49m\u001B[43m)\u001B[49m\n",
      "File \u001B[0;32m/opt/anaconda3/envs/ece204/lib/python3.9/site-packages/joblib/parallel.py:1088\u001B[0m, in \u001B[0;36mParallel.__call__\u001B[0;34m(self, iterable)\u001B[0m\n\u001B[1;32m   1085\u001B[0m \u001B[38;5;28;01mif\u001B[39;00m \u001B[38;5;28mself\u001B[39m\u001B[38;5;241m.\u001B[39mdispatch_one_batch(iterator):\n\u001B[1;32m   1086\u001B[0m     \u001B[38;5;28mself\u001B[39m\u001B[38;5;241m.\u001B[39m_iterating \u001B[38;5;241m=\u001B[39m \u001B[38;5;28mself\u001B[39m\u001B[38;5;241m.\u001B[39m_original_iterator \u001B[38;5;129;01mis\u001B[39;00m \u001B[38;5;129;01mnot\u001B[39;00m \u001B[38;5;28;01mNone\u001B[39;00m\n\u001B[0;32m-> 1088\u001B[0m \u001B[38;5;28;01mwhile\u001B[39;00m \u001B[38;5;28;43mself\u001B[39;49m\u001B[38;5;241;43m.\u001B[39;49m\u001B[43mdispatch_one_batch\u001B[49m\u001B[43m(\u001B[49m\u001B[43miterator\u001B[49m\u001B[43m)\u001B[49m:\n\u001B[1;32m   1089\u001B[0m     \u001B[38;5;28;01mpass\u001B[39;00m\n\u001B[1;32m   1091\u001B[0m \u001B[38;5;28;01mif\u001B[39;00m pre_dispatch \u001B[38;5;241m==\u001B[39m \u001B[38;5;124m\"\u001B[39m\u001B[38;5;124mall\u001B[39m\u001B[38;5;124m\"\u001B[39m \u001B[38;5;129;01mor\u001B[39;00m n_jobs \u001B[38;5;241m==\u001B[39m \u001B[38;5;241m1\u001B[39m:\n\u001B[1;32m   1092\u001B[0m     \u001B[38;5;66;03m# The iterable was consumed all at once by the above for loop.\u001B[39;00m\n\u001B[1;32m   1093\u001B[0m     \u001B[38;5;66;03m# No need to wait for async callbacks to trigger to\u001B[39;00m\n\u001B[1;32m   1094\u001B[0m     \u001B[38;5;66;03m# consumption.\u001B[39;00m\n",
      "File \u001B[0;32m/opt/anaconda3/envs/ece204/lib/python3.9/site-packages/joblib/parallel.py:901\u001B[0m, in \u001B[0;36mParallel.dispatch_one_batch\u001B[0;34m(self, iterator)\u001B[0m\n\u001B[1;32m    899\u001B[0m     \u001B[38;5;28;01mreturn\u001B[39;00m \u001B[38;5;28;01mFalse\u001B[39;00m\n\u001B[1;32m    900\u001B[0m \u001B[38;5;28;01melse\u001B[39;00m:\n\u001B[0;32m--> 901\u001B[0m     \u001B[38;5;28;43mself\u001B[39;49m\u001B[38;5;241;43m.\u001B[39;49m\u001B[43m_dispatch\u001B[49m\u001B[43m(\u001B[49m\u001B[43mtasks\u001B[49m\u001B[43m)\u001B[49m\n\u001B[1;32m    902\u001B[0m     \u001B[38;5;28;01mreturn\u001B[39;00m \u001B[38;5;28;01mTrue\u001B[39;00m\n",
      "File \u001B[0;32m/opt/anaconda3/envs/ece204/lib/python3.9/site-packages/joblib/parallel.py:819\u001B[0m, in \u001B[0;36mParallel._dispatch\u001B[0;34m(self, batch)\u001B[0m\n\u001B[1;32m    817\u001B[0m \u001B[38;5;28;01mwith\u001B[39;00m \u001B[38;5;28mself\u001B[39m\u001B[38;5;241m.\u001B[39m_lock:\n\u001B[1;32m    818\u001B[0m     job_idx \u001B[38;5;241m=\u001B[39m \u001B[38;5;28mlen\u001B[39m(\u001B[38;5;28mself\u001B[39m\u001B[38;5;241m.\u001B[39m_jobs)\n\u001B[0;32m--> 819\u001B[0m     job \u001B[38;5;241m=\u001B[39m \u001B[38;5;28;43mself\u001B[39;49m\u001B[38;5;241;43m.\u001B[39;49m\u001B[43m_backend\u001B[49m\u001B[38;5;241;43m.\u001B[39;49m\u001B[43mapply_async\u001B[49m\u001B[43m(\u001B[49m\u001B[43mbatch\u001B[49m\u001B[43m,\u001B[49m\u001B[43m \u001B[49m\u001B[43mcallback\u001B[49m\u001B[38;5;241;43m=\u001B[39;49m\u001B[43mcb\u001B[49m\u001B[43m)\u001B[49m\n\u001B[1;32m    820\u001B[0m     \u001B[38;5;66;03m# A job can complete so quickly than its callback is\u001B[39;00m\n\u001B[1;32m    821\u001B[0m     \u001B[38;5;66;03m# called before we get here, causing self._jobs to\u001B[39;00m\n\u001B[1;32m    822\u001B[0m     \u001B[38;5;66;03m# grow. To ensure correct results ordering, .insert is\u001B[39;00m\n\u001B[1;32m    823\u001B[0m     \u001B[38;5;66;03m# used (rather than .append) in the following line\u001B[39;00m\n\u001B[1;32m    824\u001B[0m     \u001B[38;5;28mself\u001B[39m\u001B[38;5;241m.\u001B[39m_jobs\u001B[38;5;241m.\u001B[39minsert(job_idx, job)\n",
      "File \u001B[0;32m/opt/anaconda3/envs/ece204/lib/python3.9/site-packages/joblib/_parallel_backends.py:208\u001B[0m, in \u001B[0;36mSequentialBackend.apply_async\u001B[0;34m(self, func, callback)\u001B[0m\n\u001B[1;32m    206\u001B[0m \u001B[38;5;28;01mdef\u001B[39;00m \u001B[38;5;21mapply_async\u001B[39m(\u001B[38;5;28mself\u001B[39m, func, callback\u001B[38;5;241m=\u001B[39m\u001B[38;5;28;01mNone\u001B[39;00m):\n\u001B[1;32m    207\u001B[0m     \u001B[38;5;124;03m\"\"\"Schedule a func to be run\"\"\"\u001B[39;00m\n\u001B[0;32m--> 208\u001B[0m     result \u001B[38;5;241m=\u001B[39m \u001B[43mImmediateResult\u001B[49m\u001B[43m(\u001B[49m\u001B[43mfunc\u001B[49m\u001B[43m)\u001B[49m\n\u001B[1;32m    209\u001B[0m     \u001B[38;5;28;01mif\u001B[39;00m callback:\n\u001B[1;32m    210\u001B[0m         callback(result)\n",
      "File \u001B[0;32m/opt/anaconda3/envs/ece204/lib/python3.9/site-packages/joblib/_parallel_backends.py:597\u001B[0m, in \u001B[0;36mImmediateResult.__init__\u001B[0;34m(self, batch)\u001B[0m\n\u001B[1;32m    594\u001B[0m \u001B[38;5;28;01mdef\u001B[39;00m \u001B[38;5;21m__init__\u001B[39m(\u001B[38;5;28mself\u001B[39m, batch):\n\u001B[1;32m    595\u001B[0m     \u001B[38;5;66;03m# Don't delay the application, to avoid keeping the input\u001B[39;00m\n\u001B[1;32m    596\u001B[0m     \u001B[38;5;66;03m# arguments in memory\u001B[39;00m\n\u001B[0;32m--> 597\u001B[0m     \u001B[38;5;28mself\u001B[39m\u001B[38;5;241m.\u001B[39mresults \u001B[38;5;241m=\u001B[39m \u001B[43mbatch\u001B[49m\u001B[43m(\u001B[49m\u001B[43m)\u001B[49m\n",
      "File \u001B[0;32m/opt/anaconda3/envs/ece204/lib/python3.9/site-packages/joblib/parallel.py:288\u001B[0m, in \u001B[0;36mBatchedCalls.__call__\u001B[0;34m(self)\u001B[0m\n\u001B[1;32m    284\u001B[0m \u001B[38;5;28;01mdef\u001B[39;00m \u001B[38;5;21m__call__\u001B[39m(\u001B[38;5;28mself\u001B[39m):\n\u001B[1;32m    285\u001B[0m     \u001B[38;5;66;03m# Set the default nested backend to self._backend but do not set the\u001B[39;00m\n\u001B[1;32m    286\u001B[0m     \u001B[38;5;66;03m# change the default number of processes to -1\u001B[39;00m\n\u001B[1;32m    287\u001B[0m     \u001B[38;5;28;01mwith\u001B[39;00m parallel_backend(\u001B[38;5;28mself\u001B[39m\u001B[38;5;241m.\u001B[39m_backend, n_jobs\u001B[38;5;241m=\u001B[39m\u001B[38;5;28mself\u001B[39m\u001B[38;5;241m.\u001B[39m_n_jobs):\n\u001B[0;32m--> 288\u001B[0m         \u001B[38;5;28;01mreturn\u001B[39;00m [func(\u001B[38;5;241m*\u001B[39margs, \u001B[38;5;241m*\u001B[39m\u001B[38;5;241m*\u001B[39mkwargs)\n\u001B[1;32m    289\u001B[0m                 \u001B[38;5;28;01mfor\u001B[39;00m func, args, kwargs \u001B[38;5;129;01min\u001B[39;00m \u001B[38;5;28mself\u001B[39m\u001B[38;5;241m.\u001B[39mitems]\n",
      "File \u001B[0;32m/opt/anaconda3/envs/ece204/lib/python3.9/site-packages/joblib/parallel.py:288\u001B[0m, in \u001B[0;36m<listcomp>\u001B[0;34m(.0)\u001B[0m\n\u001B[1;32m    284\u001B[0m \u001B[38;5;28;01mdef\u001B[39;00m \u001B[38;5;21m__call__\u001B[39m(\u001B[38;5;28mself\u001B[39m):\n\u001B[1;32m    285\u001B[0m     \u001B[38;5;66;03m# Set the default nested backend to self._backend but do not set the\u001B[39;00m\n\u001B[1;32m    286\u001B[0m     \u001B[38;5;66;03m# change the default number of processes to -1\u001B[39;00m\n\u001B[1;32m    287\u001B[0m     \u001B[38;5;28;01mwith\u001B[39;00m parallel_backend(\u001B[38;5;28mself\u001B[39m\u001B[38;5;241m.\u001B[39m_backend, n_jobs\u001B[38;5;241m=\u001B[39m\u001B[38;5;28mself\u001B[39m\u001B[38;5;241m.\u001B[39m_n_jobs):\n\u001B[0;32m--> 288\u001B[0m         \u001B[38;5;28;01mreturn\u001B[39;00m [\u001B[43mfunc\u001B[49m\u001B[43m(\u001B[49m\u001B[38;5;241;43m*\u001B[39;49m\u001B[43margs\u001B[49m\u001B[43m,\u001B[49m\u001B[43m \u001B[49m\u001B[38;5;241;43m*\u001B[39;49m\u001B[38;5;241;43m*\u001B[39;49m\u001B[43mkwargs\u001B[49m\u001B[43m)\u001B[49m\n\u001B[1;32m    289\u001B[0m                 \u001B[38;5;28;01mfor\u001B[39;00m func, args, kwargs \u001B[38;5;129;01min\u001B[39;00m \u001B[38;5;28mself\u001B[39m\u001B[38;5;241m.\u001B[39mitems]\n",
      "File \u001B[0;32m/opt/anaconda3/envs/ece204/lib/python3.9/site-packages/sklearn/utils/parallel.py:123\u001B[0m, in \u001B[0;36m_FuncWrapper.__call__\u001B[0;34m(self, *args, **kwargs)\u001B[0m\n\u001B[1;32m    121\u001B[0m     config \u001B[38;5;241m=\u001B[39m {}\n\u001B[1;32m    122\u001B[0m \u001B[38;5;28;01mwith\u001B[39;00m config_context(\u001B[38;5;241m*\u001B[39m\u001B[38;5;241m*\u001B[39mconfig):\n\u001B[0;32m--> 123\u001B[0m     \u001B[38;5;28;01mreturn\u001B[39;00m \u001B[38;5;28;43mself\u001B[39;49m\u001B[38;5;241;43m.\u001B[39;49m\u001B[43mfunction\u001B[49m\u001B[43m(\u001B[49m\u001B[38;5;241;43m*\u001B[39;49m\u001B[43margs\u001B[49m\u001B[43m,\u001B[49m\u001B[43m \u001B[49m\u001B[38;5;241;43m*\u001B[39;49m\u001B[38;5;241;43m*\u001B[39;49m\u001B[43mkwargs\u001B[49m\u001B[43m)\u001B[49m\n",
      "File \u001B[0;32m/opt/anaconda3/envs/ece204/lib/python3.9/site-packages/sklearn/model_selection/_validation.py:686\u001B[0m, in \u001B[0;36m_fit_and_score\u001B[0;34m(estimator, X, y, scorer, train, test, verbose, parameters, fit_params, return_train_score, return_parameters, return_n_test_samples, return_times, return_estimator, split_progress, candidate_progress, error_score)\u001B[0m\n\u001B[1;32m    684\u001B[0m         estimator\u001B[38;5;241m.\u001B[39mfit(X_train, \u001B[38;5;241m*\u001B[39m\u001B[38;5;241m*\u001B[39mfit_params)\n\u001B[1;32m    685\u001B[0m     \u001B[38;5;28;01melse\u001B[39;00m:\n\u001B[0;32m--> 686\u001B[0m         \u001B[43mestimator\u001B[49m\u001B[38;5;241;43m.\u001B[39;49m\u001B[43mfit\u001B[49m\u001B[43m(\u001B[49m\u001B[43mX_train\u001B[49m\u001B[43m,\u001B[49m\u001B[43m \u001B[49m\u001B[43my_train\u001B[49m\u001B[43m,\u001B[49m\u001B[43m \u001B[49m\u001B[38;5;241;43m*\u001B[39;49m\u001B[38;5;241;43m*\u001B[39;49m\u001B[43mfit_params\u001B[49m\u001B[43m)\u001B[49m\n\u001B[1;32m    688\u001B[0m \u001B[38;5;28;01mexcept\u001B[39;00m \u001B[38;5;167;01mException\u001B[39;00m:\n\u001B[1;32m    689\u001B[0m     \u001B[38;5;66;03m# Note fit time as time until error\u001B[39;00m\n\u001B[1;32m    690\u001B[0m     fit_time \u001B[38;5;241m=\u001B[39m time\u001B[38;5;241m.\u001B[39mtime() \u001B[38;5;241m-\u001B[39m start_time\n",
      "File \u001B[0;32m/opt/anaconda3/envs/ece204/lib/python3.9/site-packages/xgboost/core.py:620\u001B[0m, in \u001B[0;36mrequire_keyword_args.<locals>.throw_if.<locals>.inner_f\u001B[0;34m(*args, **kwargs)\u001B[0m\n\u001B[1;32m    618\u001B[0m \u001B[38;5;28;01mfor\u001B[39;00m k, arg \u001B[38;5;129;01min\u001B[39;00m \u001B[38;5;28mzip\u001B[39m(sig\u001B[38;5;241m.\u001B[39mparameters, args):\n\u001B[1;32m    619\u001B[0m     kwargs[k] \u001B[38;5;241m=\u001B[39m arg\n\u001B[0;32m--> 620\u001B[0m \u001B[38;5;28;01mreturn\u001B[39;00m \u001B[43mfunc\u001B[49m\u001B[43m(\u001B[49m\u001B[38;5;241;43m*\u001B[39;49m\u001B[38;5;241;43m*\u001B[39;49m\u001B[43mkwargs\u001B[49m\u001B[43m)\u001B[49m\n",
      "File \u001B[0;32m/opt/anaconda3/envs/ece204/lib/python3.9/site-packages/xgboost/sklearn.py:1490\u001B[0m, in \u001B[0;36mXGBClassifier.fit\u001B[0;34m(self, X, y, sample_weight, base_margin, eval_set, eval_metric, early_stopping_rounds, verbose, xgb_model, sample_weight_eval_set, base_margin_eval_set, feature_weights, callbacks)\u001B[0m\n\u001B[1;32m   1462\u001B[0m (\n\u001B[1;32m   1463\u001B[0m     model,\n\u001B[1;32m   1464\u001B[0m     metric,\n\u001B[0;32m   (...)\u001B[0m\n\u001B[1;32m   1469\u001B[0m     xgb_model, eval_metric, params, early_stopping_rounds, callbacks\n\u001B[1;32m   1470\u001B[0m )\n\u001B[1;32m   1471\u001B[0m train_dmatrix, evals \u001B[38;5;241m=\u001B[39m _wrap_evaluation_matrices(\n\u001B[1;32m   1472\u001B[0m     missing\u001B[38;5;241m=\u001B[39m\u001B[38;5;28mself\u001B[39m\u001B[38;5;241m.\u001B[39mmissing,\n\u001B[1;32m   1473\u001B[0m     X\u001B[38;5;241m=\u001B[39mX,\n\u001B[0;32m   (...)\u001B[0m\n\u001B[1;32m   1487\u001B[0m     feature_types\u001B[38;5;241m=\u001B[39m\u001B[38;5;28mself\u001B[39m\u001B[38;5;241m.\u001B[39mfeature_types,\n\u001B[1;32m   1488\u001B[0m )\n\u001B[0;32m-> 1490\u001B[0m \u001B[38;5;28mself\u001B[39m\u001B[38;5;241m.\u001B[39m_Booster \u001B[38;5;241m=\u001B[39m \u001B[43mtrain\u001B[49m\u001B[43m(\u001B[49m\n\u001B[1;32m   1491\u001B[0m \u001B[43m    \u001B[49m\u001B[43mparams\u001B[49m\u001B[43m,\u001B[49m\n\u001B[1;32m   1492\u001B[0m \u001B[43m    \u001B[49m\u001B[43mtrain_dmatrix\u001B[49m\u001B[43m,\u001B[49m\n\u001B[1;32m   1493\u001B[0m \u001B[43m    \u001B[49m\u001B[38;5;28;43mself\u001B[39;49m\u001B[38;5;241;43m.\u001B[39;49m\u001B[43mget_num_boosting_rounds\u001B[49m\u001B[43m(\u001B[49m\u001B[43m)\u001B[49m\u001B[43m,\u001B[49m\n\u001B[1;32m   1494\u001B[0m \u001B[43m    \u001B[49m\u001B[43mevals\u001B[49m\u001B[38;5;241;43m=\u001B[39;49m\u001B[43mevals\u001B[49m\u001B[43m,\u001B[49m\n\u001B[1;32m   1495\u001B[0m \u001B[43m    \u001B[49m\u001B[43mearly_stopping_rounds\u001B[49m\u001B[38;5;241;43m=\u001B[39;49m\u001B[43mearly_stopping_rounds\u001B[49m\u001B[43m,\u001B[49m\n\u001B[1;32m   1496\u001B[0m \u001B[43m    \u001B[49m\u001B[43mevals_result\u001B[49m\u001B[38;5;241;43m=\u001B[39;49m\u001B[43mevals_result\u001B[49m\u001B[43m,\u001B[49m\n\u001B[1;32m   1497\u001B[0m \u001B[43m    \u001B[49m\u001B[43mobj\u001B[49m\u001B[38;5;241;43m=\u001B[39;49m\u001B[43mobj\u001B[49m\u001B[43m,\u001B[49m\n\u001B[1;32m   1498\u001B[0m \u001B[43m    \u001B[49m\u001B[43mcustom_metric\u001B[49m\u001B[38;5;241;43m=\u001B[39;49m\u001B[43mmetric\u001B[49m\u001B[43m,\u001B[49m\n\u001B[1;32m   1499\u001B[0m \u001B[43m    \u001B[49m\u001B[43mverbose_eval\u001B[49m\u001B[38;5;241;43m=\u001B[39;49m\u001B[43mverbose\u001B[49m\u001B[43m,\u001B[49m\n\u001B[1;32m   1500\u001B[0m \u001B[43m    \u001B[49m\u001B[43mxgb_model\u001B[49m\u001B[38;5;241;43m=\u001B[39;49m\u001B[43mmodel\u001B[49m\u001B[43m,\u001B[49m\n\u001B[1;32m   1501\u001B[0m \u001B[43m    \u001B[49m\u001B[43mcallbacks\u001B[49m\u001B[38;5;241;43m=\u001B[39;49m\u001B[43mcallbacks\u001B[49m\u001B[43m,\u001B[49m\n\u001B[1;32m   1502\u001B[0m \u001B[43m\u001B[49m\u001B[43m)\u001B[49m\n\u001B[1;32m   1504\u001B[0m \u001B[38;5;28;01mif\u001B[39;00m \u001B[38;5;129;01mnot\u001B[39;00m callable(\u001B[38;5;28mself\u001B[39m\u001B[38;5;241m.\u001B[39mobjective):\n\u001B[1;32m   1505\u001B[0m     \u001B[38;5;28mself\u001B[39m\u001B[38;5;241m.\u001B[39mobjective \u001B[38;5;241m=\u001B[39m params[\u001B[38;5;124m\"\u001B[39m\u001B[38;5;124mobjective\u001B[39m\u001B[38;5;124m\"\u001B[39m]\n",
      "File \u001B[0;32m/opt/anaconda3/envs/ece204/lib/python3.9/site-packages/xgboost/core.py:620\u001B[0m, in \u001B[0;36mrequire_keyword_args.<locals>.throw_if.<locals>.inner_f\u001B[0;34m(*args, **kwargs)\u001B[0m\n\u001B[1;32m    618\u001B[0m \u001B[38;5;28;01mfor\u001B[39;00m k, arg \u001B[38;5;129;01min\u001B[39;00m \u001B[38;5;28mzip\u001B[39m(sig\u001B[38;5;241m.\u001B[39mparameters, args):\n\u001B[1;32m    619\u001B[0m     kwargs[k] \u001B[38;5;241m=\u001B[39m arg\n\u001B[0;32m--> 620\u001B[0m \u001B[38;5;28;01mreturn\u001B[39;00m \u001B[43mfunc\u001B[49m\u001B[43m(\u001B[49m\u001B[38;5;241;43m*\u001B[39;49m\u001B[38;5;241;43m*\u001B[39;49m\u001B[43mkwargs\u001B[49m\u001B[43m)\u001B[49m\n",
      "File \u001B[0;32m/opt/anaconda3/envs/ece204/lib/python3.9/site-packages/xgboost/training.py:185\u001B[0m, in \u001B[0;36mtrain\u001B[0;34m(params, dtrain, num_boost_round, evals, obj, feval, maximize, early_stopping_rounds, evals_result, verbose_eval, xgb_model, callbacks, custom_metric)\u001B[0m\n\u001B[1;32m    183\u001B[0m \u001B[38;5;28;01mif\u001B[39;00m cb_container\u001B[38;5;241m.\u001B[39mbefore_iteration(bst, i, dtrain, evals):\n\u001B[1;32m    184\u001B[0m     \u001B[38;5;28;01mbreak\u001B[39;00m\n\u001B[0;32m--> 185\u001B[0m \u001B[43mbst\u001B[49m\u001B[38;5;241;43m.\u001B[39;49m\u001B[43mupdate\u001B[49m\u001B[43m(\u001B[49m\u001B[43mdtrain\u001B[49m\u001B[43m,\u001B[49m\u001B[43m \u001B[49m\u001B[43mi\u001B[49m\u001B[43m,\u001B[49m\u001B[43m \u001B[49m\u001B[43mobj\u001B[49m\u001B[43m)\u001B[49m\n\u001B[1;32m    186\u001B[0m \u001B[38;5;28;01mif\u001B[39;00m cb_container\u001B[38;5;241m.\u001B[39mafter_iteration(bst, i, dtrain, evals):\n\u001B[1;32m    187\u001B[0m     \u001B[38;5;28;01mbreak\u001B[39;00m\n",
      "File \u001B[0;32m/opt/anaconda3/envs/ece204/lib/python3.9/site-packages/xgboost/core.py:1918\u001B[0m, in \u001B[0;36mBooster.update\u001B[0;34m(self, dtrain, iteration, fobj)\u001B[0m\n\u001B[1;32m   1915\u001B[0m \u001B[38;5;28mself\u001B[39m\u001B[38;5;241m.\u001B[39m_validate_dmatrix_features(dtrain)\n\u001B[1;32m   1917\u001B[0m \u001B[38;5;28;01mif\u001B[39;00m fobj \u001B[38;5;129;01mis\u001B[39;00m \u001B[38;5;28;01mNone\u001B[39;00m:\n\u001B[0;32m-> 1918\u001B[0m     _check_call(\u001B[43m_LIB\u001B[49m\u001B[38;5;241;43m.\u001B[39;49m\u001B[43mXGBoosterUpdateOneIter\u001B[49m\u001B[43m(\u001B[49m\u001B[38;5;28;43mself\u001B[39;49m\u001B[38;5;241;43m.\u001B[39;49m\u001B[43mhandle\u001B[49m\u001B[43m,\u001B[49m\n\u001B[1;32m   1919\u001B[0m \u001B[43m                                            \u001B[49m\u001B[43mctypes\u001B[49m\u001B[38;5;241;43m.\u001B[39;49m\u001B[43mc_int\u001B[49m\u001B[43m(\u001B[49m\u001B[43miteration\u001B[49m\u001B[43m)\u001B[49m\u001B[43m,\u001B[49m\n\u001B[1;32m   1920\u001B[0m \u001B[43m                                            \u001B[49m\u001B[43mdtrain\u001B[49m\u001B[38;5;241;43m.\u001B[39;49m\u001B[43mhandle\u001B[49m\u001B[43m)\u001B[49m)\n\u001B[1;32m   1921\u001B[0m \u001B[38;5;28;01melse\u001B[39;00m:\n\u001B[1;32m   1922\u001B[0m     pred \u001B[38;5;241m=\u001B[39m \u001B[38;5;28mself\u001B[39m\u001B[38;5;241m.\u001B[39mpredict(dtrain, output_margin\u001B[38;5;241m=\u001B[39m\u001B[38;5;28;01mTrue\u001B[39;00m, training\u001B[38;5;241m=\u001B[39m\u001B[38;5;28;01mTrue\u001B[39;00m)\n",
      "\u001B[0;31mKeyboardInterrupt\u001B[0m: "
     ]
    }
   ],
   "source": [
    "from sklearn.feature_selection import SelectFromModel\n",
    "        \n",
    "# Define the list of thresholds\n",
    "thresholds = np.arange(0, 0.035, 0.0005)\n",
    "n = []\n",
    "best_threshold = []\n",
    "test_acc = []\n",
    "grid_search_results = []\n",
    "param_grid = {\n",
    "    'n_estimators': [10, 50, 100],\n",
    "    'max_depth': [5, 10],\n",
    "    'learning_rate': [1e-2, 1e-1, 1, 1e2, 1e3],\n",
    "    'random_state': [42],\n",
    "    'eval_metric' : [f1_score]\n",
    "}\n",
    "for thresh in thresholds:\n",
    "    \n",
    "    # Select features using the threshold\n",
    "    selection = SelectFromModel(XGBClassifier(), threshold=thresh).fit(X_train, y_train)\n",
    "    select_X_train = selection.transform(X_train)\n",
    "    \n",
    "    # Train the model\n",
    "    selection_model = XGBClassifier()\n",
    "    grid_search = GridSearchCV(selection_model, param_grid, cv=5, scoring='f1', verbose=1)\n",
    "    grid_search.fit(select_X_train, y_train)\n",
    "    \n",
    "    # Evaluate the model\n",
    "    select_X_test = selection.transform(X_test)\n",
    "\n",
    "    y_pred = grid_search.predict(select_X_test)\n",
    "    predictions = [round(value, 3) for value in y_pred]\n",
    "    accuracy = f1_score(y_test, predictions)\n",
    "    \n",
    "    print(\"Thresh=%.3f, n=%d, F1 Score: %.2f%%\" % (thresh, select_X_train.shape[1], accuracy*100.0))\n",
    "    print(\"Best Performer:\", grid_search.best_params_)\n",
    "    grid_search_results.append(grid_search.best_params_)\n",
    "    # print(classification_report(y_true, y_pred))\n",
    "    print()\n",
    "    best_threshold.append(thresh)\n",
    "    n.append(select_X_train.shape[1])\n",
    "    test_acc.append(accuracy)\n",
    "\n",
    "print(\"------------------------------------------\")\n",
    "print('RESULTS:')\n",
    "best_acc_ind = np.argmax(test_acc)\n",
    "best_acc = np.max(test_acc)\n",
    "best_threshold = best_threshold[best_acc_ind]\n",
    "best_n = n[best_acc_ind]\n",
    "print(\"Thresh=%.3f, n=%d, F1 Score: %.2f%%\" % (best_threshold,best_n, best_acc*100.0))\n",
    "\n",
    "# Get Classification report \n",
    "best_result = grid_search_results[best_acc_ind]\n",
    "best_model = best_result.best_estimator_\n",
    "y_pred = best_model.predict(X_test) \n",
    "# print classification report\n",
    "print(classification_report(y_test, y_pred, digits=4))"
   ]
  },
  {
   "cell_type": "code",
   "execution_count": 60,
   "id": "9a167f82",
   "metadata": {},
   "outputs": [
    {
     "ename": "AttributeError",
     "evalue": "'GridSearchCV' object has no attribute 'best_params_'",
     "output_type": "error",
     "traceback": [
      "\u001B[1;31m---------------------------------------------------------------------------\u001B[0m",
      "\u001B[1;31mAttributeError\u001B[0m                            Traceback (most recent call last)",
      "Cell \u001B[1;32mIn[60], line 1\u001B[0m\n\u001B[1;32m----> 1\u001B[0m \u001B[39mprint\u001B[39m(\u001B[39m\"\u001B[39m\u001B[39mBest Performer:\u001B[39m\u001B[39m\"\u001B[39m, grid_search\u001B[39m.\u001B[39;49mbest_params_)\n",
      "\u001B[1;31mAttributeError\u001B[0m: 'GridSearchCV' object has no attribute 'best_params_'"
     ]
    }
   ],
   "source": [
    "print(\"Best Performer:\", grid_search.best_params_)"
   ]
  },
  {
   "cell_type": "code",
   "execution_count": 59,
   "id": "ae0dbb75",
   "metadata": {},
   "outputs": [
    {
     "ename": "AttributeError",
     "evalue": "'GridSearchCV' object has no attribute 'best_params_'",
     "output_type": "error",
     "traceback": [
      "\u001B[1;31m---------------------------------------------------------------------------\u001B[0m",
      "\u001B[1;31mAttributeError\u001B[0m                            Traceback (most recent call last)",
      "Cell \u001B[1;32mIn[59], line 1\u001B[0m\n\u001B[1;32m----> 1\u001B[0m grid_search\u001B[39m.\u001B[39;49mbest_params_\n",
      "\u001B[1;31mAttributeError\u001B[0m: 'GridSearchCV' object has no attribute 'best_params_'"
     ]
    }
   ],
   "source": [
    "grid_search.best_params_"
   ]
  },
  {
   "cell_type": "code",
   "execution_count": 51,
   "id": "1133634f",
   "metadata": {},
   "outputs": [
    {
     "name": "stdout",
     "output_type": "stream",
     "text": [
      "              precision    recall  f1-score   support\n",
      "\n",
      "           0       1.00      0.14      0.25         7\n",
      "           1       0.93      1.00      0.96        74\n",
      "\n",
      "    accuracy                           0.93        81\n",
      "   macro avg       0.96      0.57      0.61        81\n",
      "weighted avg       0.93      0.93      0.90        81\n",
      "\n"
     ]
    }
   ],
   "source": [
    "print(classification_report(y_test, y_pred))"
   ]
  },
  {
   "cell_type": "markdown",
   "id": "b8f07ec4",
   "metadata": {},
   "source": [
    "#### Do it with SVM"
   ]
  },
  {
   "cell_type": "code",
   "execution_count": 26,
   "id": "def15de8",
   "metadata": {},
   "outputs": [
    {
     "name": "stdout",
     "output_type": "stream",
     "text": [
      "------------------------------------------\n",
      "Fitting 5 folds for each of 12 candidates, totalling 60 fits\n",
      "Iteration  1\n",
      "Best Score: 0.6855774237217537\n",
      "Thresh=0.000, n=108, Accuracy: 56.10%\n",
      "------------------------------------------\n",
      "Fitting 5 folds for each of 12 candidates, totalling 60 fits\n",
      "Iteration  2\n",
      "Best Score: 0.6920899810501865\n",
      "Thresh=0.001, n=96, Accuracy: 65.85%\n",
      "------------------------------------------\n",
      "Fitting 5 folds for each of 12 candidates, totalling 60 fits\n",
      "Iteration  3\n",
      "Best Score: 0.6855774237217537\n",
      "Thresh=0.002, n=88, Accuracy: 56.10%\n",
      "------------------------------------------\n",
      "Fitting 5 folds for each of 12 candidates, totalling 60 fits\n",
      "Iteration  4\n",
      "Best Score: 0.6886539930657577\n",
      "Thresh=0.003, n=81, Accuracy: 70.73%\n",
      "------------------------------------------\n",
      "Fitting 5 folds for each of 12 candidates, totalling 60 fits\n",
      "Iteration  5\n",
      "Best Score: 0.6930184252109575\n",
      "Thresh=0.004, n=75, Accuracy: 65.85%\n",
      "------------------------------------------\n",
      "Fitting 5 folds for each of 12 candidates, totalling 60 fits\n",
      "Iteration  6\n",
      "Best Score: 0.6855774237217537\n",
      "Thresh=0.005, n=69, Accuracy: 56.10%\n",
      "------------------------------------------\n",
      "Fitting 5 folds for each of 12 candidates, totalling 60 fits\n",
      "Iteration  7\n",
      "Best Score: 0.6885955829673238\n",
      "Thresh=0.006, n=62, Accuracy: 69.51%\n",
      "------------------------------------------\n",
      "Fitting 5 folds for each of 12 candidates, totalling 60 fits\n",
      "Iteration  8\n",
      "Best Score: 0.6724615792262851\n",
      "Thresh=0.007, n=57, Accuracy: 68.29%\n",
      "------------------------------------------\n",
      "Fitting 5 folds for each of 12 candidates, totalling 60 fits\n",
      "Iteration  9\n",
      "Best Score: 0.6686028667515591\n",
      "Thresh=0.008, n=49, Accuracy: 68.29%\n",
      "------------------------------------------\n",
      "Fitting 5 folds for each of 12 candidates, totalling 60 fits\n",
      "Iteration  10\n",
      "Best Score: 0.6716455696202532\n",
      "Thresh=0.009, n=44, Accuracy: 69.51%\n",
      "------------------------------------------\n",
      "Fitting 5 folds for each of 12 candidates, totalling 60 fits\n",
      "Iteration  11\n",
      "Best Score: 0.6781599842746168\n",
      "Thresh=0.010, n=38, Accuracy: 68.29%\n",
      "------------------------------------------\n",
      "Fitting 5 folds for each of 12 candidates, totalling 60 fits\n",
      "Iteration  12\n",
      "Best Score: 0.673669018569637\n",
      "Thresh=0.011, n=32, Accuracy: 67.07%\n",
      "------------------------------------------\n",
      "Fitting 5 folds for each of 12 candidates, totalling 60 fits\n",
      "Iteration  13\n",
      "Best Score: 0.6771773924968166\n",
      "Thresh=0.012, n=28, Accuracy: 68.29%\n",
      "------------------------------------------\n",
      "Fitting 5 folds for each of 12 candidates, totalling 60 fits\n",
      "Iteration  14\n",
      "Best Score: 0.6696120076844302\n",
      "Thresh=0.013, n=24, Accuracy: 64.63%\n",
      "------------------------------------------\n",
      "Fitting 5 folds for each of 12 candidates, totalling 60 fits\n",
      "Iteration  15\n",
      "Best Score: 0.6658126441459775\n",
      "Thresh=0.014, n=22, Accuracy: 64.63%\n",
      "------------------------------------------\n",
      "Fitting 5 folds for each of 12 candidates, totalling 60 fits\n",
      "Iteration  16\n",
      "Best Score: 0.6658126441459775\n",
      "Thresh=0.015, n=22, Accuracy: 64.63%\n",
      "------------------------------------------\n",
      "Fitting 5 folds for each of 12 candidates, totalling 60 fits\n",
      "Iteration  17\n",
      "Best Score: 0.6732098765432099\n",
      "Thresh=0.016, n=19, Accuracy: 65.85%\n",
      "------------------------------------------\n",
      "Fitting 5 folds for each of 12 candidates, totalling 60 fits\n",
      "Iteration  18\n",
      "Best Score: 0.6569515177187528\n",
      "Thresh=0.017, n=18, Accuracy: 67.07%\n",
      "------------------------------------------\n",
      "Fitting 5 folds for each of 12 candidates, totalling 60 fits\n",
      "Iteration  19\n",
      "Best Score: 0.6584490071332176\n",
      "Thresh=0.018, n=17, Accuracy: 67.07%\n",
      "------------------------------------------\n",
      "Fitting 5 folds for each of 12 candidates, totalling 60 fits\n",
      "Iteration  20\n",
      "Best Score: 0.6624140565317035\n",
      "Thresh=0.019, n=15, Accuracy: 64.63%\n",
      "------------------------------------------\n",
      "Fitting 5 folds for each of 12 candidates, totalling 60 fits\n",
      "Iteration  21\n",
      "Best Score: 0.6624140565317035\n",
      "Thresh=0.020, n=15, Accuracy: 64.63%\n",
      "------------------------------------------\n",
      "Fitting 5 folds for each of 12 candidates, totalling 60 fits\n",
      "Iteration  22\n",
      "Best Score: 0.6543878861773599\n",
      "Thresh=0.021, n=13, Accuracy: 67.07%\n",
      "------------------------------------------\n",
      "Fitting 5 folds for each of 12 candidates, totalling 60 fits\n",
      "Iteration  23\n",
      "Best Score: 0.6552911270806007\n",
      "Thresh=0.022, n=12, Accuracy: 67.07%\n",
      "------------------------------------------\n",
      "Fitting 5 folds for each of 12 candidates, totalling 60 fits\n",
      "Iteration  24\n",
      "Best Score: 0.6744800396739429\n",
      "Thresh=0.023, n=8, Accuracy: 67.07%\n",
      "------------------------------------------\n",
      "Fitting 5 folds for each of 12 candidates, totalling 60 fits\n",
      "Iteration  25\n",
      "Best Score: 0.6634805194805194\n",
      "Thresh=0.024, n=7, Accuracy: 64.63%\n",
      "------------------------------------------\n",
      "Fitting 5 folds for each of 12 candidates, totalling 60 fits\n",
      "Iteration  26\n",
      "Best Score: 0.6685855641479798\n",
      "Thresh=0.025, n=6, Accuracy: 68.29%\n",
      "------------------------------------------\n",
      "Fitting 5 folds for each of 12 candidates, totalling 60 fits\n",
      "Iteration  27\n",
      "Best Score: 0.6520995024875621\n",
      "Thresh=0.026, n=5, Accuracy: 67.07%\n",
      "------------------------------------------\n",
      "Fitting 5 folds for each of 12 candidates, totalling 60 fits\n",
      "Iteration  28\n",
      "Best Score: 0.6520995024875621\n",
      "Thresh=0.027, n=5, Accuracy: 67.07%\n",
      "------------------------------------------\n",
      "Fitting 5 folds for each of 12 candidates, totalling 60 fits\n",
      "Iteration  29\n",
      "Best Score: 0.6399507897364602\n",
      "Thresh=0.028, n=4, Accuracy: 64.63%\n",
      "------------------------------------------\n",
      "Fitting 5 folds for each of 12 candidates, totalling 60 fits\n",
      "Iteration  30\n",
      "Best Score: 0.6511967286237687\n",
      "Thresh=0.029, n=3, Accuracy: 63.41%\n",
      "------------------------------------------\n",
      "Fitting 5 folds for each of 12 candidates, totalling 60 fits\n",
      "Iteration  31\n",
      "Best Score: 0.6466024317373787\n",
      "Thresh=0.030, n=2, Accuracy: 63.41%\n",
      "------------------------------------------\n",
      "Fitting 5 folds for each of 12 candidates, totalling 60 fits\n",
      "Iteration  32\n",
      "Best Score: 0.5864255463722631\n",
      "Thresh=0.031, n=1, Accuracy: 58.54%\n",
      "------------------------------------------\n",
      "Fitting 5 folds for each of 12 candidates, totalling 60 fits\n",
      "Iteration  33\n",
      "Best Score: 0.5864255463722631\n",
      "Thresh=0.032, n=1, Accuracy: 58.54%\n",
      "------------------------------------------\n",
      "Fitting 5 folds for each of 12 candidates, totalling 60 fits\n",
      "Iteration  34\n",
      "Best Score: 0.5864255463722631\n",
      "Thresh=0.033, n=1, Accuracy: 58.54%\n",
      "------------------------------------------\n",
      "Fitting 5 folds for each of 12 candidates, totalling 60 fits\n",
      "Iteration  35\n",
      "Best Score: 0.5864255463722631\n",
      "Thresh=0.034, n=1, Accuracy: 58.54%\n",
      "------------------------------------------\n",
      "RESULTS:\n",
      "Thresh=0.003, n=81, Accuracy: 70.73%\n"
     ]
    }
   ],
   "source": [
    "n = []\n",
    "best_threshold = []\n",
    "test_acc = []\n",
    "ind = 1\n",
    "thresholds = np.arange(0, 0.035, 0.001)\n",
    "\n",
    "# SVM Classifier\n",
    "model = svm.SVC()\n",
    "param_grid = {'C': [0.1,0.5,1,2,5,10],\n",
    "            'kernel': ['linear','rbf',]}\n",
    "grid_search_results = []\n",
    "            \n",
    "for thresh in thresholds:\n",
    "\n",
    "    model = XGBClassifier()\n",
    "    model.fit(X_train, y_train)\n",
    "    \n",
    "    # Select features using the threshold\n",
    "    selection = SelectFromModel(model, threshold=thresh, prefit=True)\n",
    "    select_X_train = selection.transform(X_train)\n",
    "    \n",
    "    # Train the model\n",
    "    selection_model = XGBClassifier()\n",
    "    selection_model.fit(select_X_train, y_train)\n",
    "\n",
    "\n",
    "    # Fit the SVM classifier on the combined features and perform classification\n",
    "    # Perform grid search cross-validation\n",
    "    model = svm.SVC()\n",
    "    print(\"------------------------------------------\")\n",
    "    grid_search = GridSearchCV(model, param_grid, cv=5, scoring='f1', verbose=1)\n",
    "    grid_search.fit(select_X_train, y_train)\n",
    "\n",
    "    # Save the grid search object\n",
    "    # grid_search_results.append(grid_search)\n",
    "\n",
    "    print(\"Iteration \", ind)\n",
    "    best_score = grid_search.best_score_\n",
    "    print(\"Best Score:\", best_score)\n",
    "    grid_search_results.append(grid_search)\n",
    "    ind += 1\n",
    "\n",
    "    # Evaluate the model\n",
    "    select_X_test = selection.transform(X_test)\n",
    "    # Perform prediction using the best parameters\n",
    "    y_pred = grid_search.predict(select_X_test) \n",
    "    # Calculate the accuracy of the model\n",
    "    accuracy = accuracy_score(y_test, y_pred)\n",
    "    print(\"Thresh=%.3f, n=%d, Accuracy: %.2f%%\" % (thresh, select_X_train.shape[1], accuracy*100.0))\n",
    "    best_threshold.append(thresh)\n",
    "    n.append(select_X_train.shape[1])\n",
    "    test_acc.append(accuracy)\n",
    "\n",
    "print(\"------------------------------------------\")\n",
    "print('RESULTS:')\n",
    "best_acc_ind = np.argmax(test_acc)\n",
    "best_acc = np.max(test_acc)\n",
    "best_threshold = best_threshold[best_acc_ind]\n",
    "best_n = n[best_acc_ind]\n",
    "print(\"Thresh=%.3f, n=%d, Accuracy: %.2f%%\" % (best_threshold,best_n, best_acc*100.0))"
   ]
  },
  {
   "cell_type": "code",
   "execution_count": null,
   "id": "5e7e95dc",
   "metadata": {},
   "outputs": [],
   "source": []
  }
 ],
 "metadata": {
  "kernelspec": {
   "display_name": "Python 3 (ipykernel)",
   "language": "python",
   "name": "python3"
  },
  "language_info": {
   "codemirror_mode": {
    "name": "ipython",
    "version": 3
   },
   "file_extension": ".py",
   "mimetype": "text/x-python",
   "name": "python",
   "nbconvert_exporter": "python",
   "pygments_lexer": "ipython3",
   "version": "3.9.16"
  }
 },
 "nbformat": 4,
 "nbformat_minor": 5
}
