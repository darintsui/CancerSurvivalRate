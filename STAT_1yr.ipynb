{
 "cells": [
  {
   "cell_type": "code",
   "execution_count": 1,
   "id": "0d119b71",
   "metadata": {},
   "outputs": [],
   "source": [
    "import pandas as pd\n",
    "import numpy as np\n",
    "import matplotlib.pyplot as plt\n",
    "from collections import Counter\n",
    "from tqdm import tqdm\n",
    "import re"
   ]
  },
  {
   "attachments": {},
   "cell_type": "markdown",
   "id": "1fc8b724",
   "metadata": {},
   "source": [
    "### Handling Data ###"
   ]
  },
  {
   "cell_type": "code",
   "execution_count": 2,
   "id": "b230cc05",
   "metadata": {},
   "outputs": [
    {
     "data": {
      "text/html": [
       "<div>\n",
       "<style scoped>\n",
       "    .dataframe tbody tr th:only-of-type {\n",
       "        vertical-align: middle;\n",
       "    }\n",
       "\n",
       "    .dataframe tbody tr th {\n",
       "        vertical-align: top;\n",
       "    }\n",
       "\n",
       "    .dataframe thead th {\n",
       "        text-align: right;\n",
       "    }\n",
       "</style>\n",
       "<table border=\"1\" class=\"dataframe\">\n",
       "  <thead>\n",
       "    <tr style=\"text-align: right;\">\n",
       "      <th></th>\n",
       "      <th>patient_id</th>\n",
       "      <th>?|100130426</th>\n",
       "      <th>?|100133144</th>\n",
       "      <th>?|100134869</th>\n",
       "      <th>?|10357</th>\n",
       "      <th>?|10431</th>\n",
       "      <th>?|136542</th>\n",
       "      <th>?|155060</th>\n",
       "      <th>?|26823</th>\n",
       "      <th>?|280660</th>\n",
       "      <th>...</th>\n",
       "      <th>ZWINT|11130</th>\n",
       "      <th>ZXDA|7789</th>\n",
       "      <th>ZXDB|158586</th>\n",
       "      <th>ZXDC|79364</th>\n",
       "      <th>ZYG11A|440590</th>\n",
       "      <th>ZYG11B|79699</th>\n",
       "      <th>ZYX|7791</th>\n",
       "      <th>ZZEF1|23140</th>\n",
       "      <th>ZZZ3|26009</th>\n",
       "      <th>sample_type</th>\n",
       "    </tr>\n",
       "  </thead>\n",
       "  <tbody>\n",
       "    <tr>\n",
       "      <th>0</th>\n",
       "      <td>TCGA-05-4244</td>\n",
       "      <td>0.0</td>\n",
       "      <td>3.460913</td>\n",
       "      <td>3.618474</td>\n",
       "      <td>5.661048</td>\n",
       "      <td>9.731217</td>\n",
       "      <td>0.0</td>\n",
       "      <td>8.435591</td>\n",
       "      <td>1.033652</td>\n",
       "      <td>0.000000</td>\n",
       "      <td>...</td>\n",
       "      <td>9.018679</td>\n",
       "      <td>5.350285</td>\n",
       "      <td>8.197320</td>\n",
       "      <td>9.907260</td>\n",
       "      <td>0.763921</td>\n",
       "      <td>10.088854</td>\n",
       "      <td>11.471137</td>\n",
       "      <td>9.768648</td>\n",
       "      <td>9.170596</td>\n",
       "      <td>1</td>\n",
       "    </tr>\n",
       "    <tr>\n",
       "      <th>1</th>\n",
       "      <td>TCGA-05-4249</td>\n",
       "      <td>0.0</td>\n",
       "      <td>3.034867</td>\n",
       "      <td>3.748848</td>\n",
       "      <td>6.515884</td>\n",
       "      <td>9.853335</td>\n",
       "      <td>0.0</td>\n",
       "      <td>7.191819</td>\n",
       "      <td>1.383939</td>\n",
       "      <td>0.000000</td>\n",
       "      <td>...</td>\n",
       "      <td>8.172463</td>\n",
       "      <td>5.980428</td>\n",
       "      <td>8.950002</td>\n",
       "      <td>10.204975</td>\n",
       "      <td>4.411650</td>\n",
       "      <td>9.622978</td>\n",
       "      <td>11.199826</td>\n",
       "      <td>10.153704</td>\n",
       "      <td>9.433116</td>\n",
       "      <td>1</td>\n",
       "    </tr>\n",
       "    <tr>\n",
       "      <th>2</th>\n",
       "      <td>TCGA-05-4250</td>\n",
       "      <td>0.0</td>\n",
       "      <td>3.043572</td>\n",
       "      <td>2.811142</td>\n",
       "      <td>5.659257</td>\n",
       "      <td>10.156943</td>\n",
       "      <td>0.0</td>\n",
       "      <td>5.720508</td>\n",
       "      <td>0.000000</td>\n",
       "      <td>0.000000</td>\n",
       "      <td>...</td>\n",
       "      <td>10.033203</td>\n",
       "      <td>5.931168</td>\n",
       "      <td>8.517335</td>\n",
       "      <td>9.722642</td>\n",
       "      <td>4.782796</td>\n",
       "      <td>8.895339</td>\n",
       "      <td>12.408980</td>\n",
       "      <td>10.194166</td>\n",
       "      <td>9.060342</td>\n",
       "      <td>1</td>\n",
       "    </tr>\n",
       "    <tr>\n",
       "      <th>3</th>\n",
       "      <td>TCGA-05-4382</td>\n",
       "      <td>0.0</td>\n",
       "      <td>3.624230</td>\n",
       "      <td>3.099968</td>\n",
       "      <td>6.389400</td>\n",
       "      <td>9.658520</td>\n",
       "      <td>0.0</td>\n",
       "      <td>7.913021</td>\n",
       "      <td>0.564232</td>\n",
       "      <td>0.309525</td>\n",
       "      <td>...</td>\n",
       "      <td>9.558593</td>\n",
       "      <td>5.373036</td>\n",
       "      <td>8.441915</td>\n",
       "      <td>9.888267</td>\n",
       "      <td>6.041142</td>\n",
       "      <td>9.828389</td>\n",
       "      <td>12.725185</td>\n",
       "      <td>10.192589</td>\n",
       "      <td>9.376842</td>\n",
       "      <td>1</td>\n",
       "    </tr>\n",
       "    <tr>\n",
       "      <th>4</th>\n",
       "      <td>TCGA-05-4384</td>\n",
       "      <td>0.0</td>\n",
       "      <td>2.079088</td>\n",
       "      <td>2.168064</td>\n",
       "      <td>6.200361</td>\n",
       "      <td>9.137001</td>\n",
       "      <td>0.0</td>\n",
       "      <td>8.104766</td>\n",
       "      <td>0.687867</td>\n",
       "      <td>0.000000</td>\n",
       "      <td>...</td>\n",
       "      <td>7.275566</td>\n",
       "      <td>6.340285</td>\n",
       "      <td>9.140127</td>\n",
       "      <td>10.368190</td>\n",
       "      <td>3.160501</td>\n",
       "      <td>9.607079</td>\n",
       "      <td>11.706703</td>\n",
       "      <td>10.763478</td>\n",
       "      <td>9.500392</td>\n",
       "      <td>1</td>\n",
       "    </tr>\n",
       "  </tbody>\n",
       "</table>\n",
       "<p>5 rows × 20533 columns</p>\n",
       "</div>"
      ],
      "text/plain": [
       "     patient_id  ?|100130426  ?|100133144  ?|100134869   ?|10357    ?|10431  \\\n",
       "0  TCGA-05-4244          0.0     3.460913     3.618474  5.661048   9.731217   \n",
       "1  TCGA-05-4249          0.0     3.034867     3.748848  6.515884   9.853335   \n",
       "2  TCGA-05-4250          0.0     3.043572     2.811142  5.659257  10.156943   \n",
       "3  TCGA-05-4382          0.0     3.624230     3.099968  6.389400   9.658520   \n",
       "4  TCGA-05-4384          0.0     2.079088     2.168064  6.200361   9.137001   \n",
       "\n",
       "   ?|136542  ?|155060   ?|26823  ?|280660  ...  ZWINT|11130  ZXDA|7789  \\\n",
       "0       0.0  8.435591  1.033652  0.000000  ...     9.018679   5.350285   \n",
       "1       0.0  7.191819  1.383939  0.000000  ...     8.172463   5.980428   \n",
       "2       0.0  5.720508  0.000000  0.000000  ...    10.033203   5.931168   \n",
       "3       0.0  7.913021  0.564232  0.309525  ...     9.558593   5.373036   \n",
       "4       0.0  8.104766  0.687867  0.000000  ...     7.275566   6.340285   \n",
       "\n",
       "   ZXDB|158586  ZXDC|79364  ZYG11A|440590  ZYG11B|79699   ZYX|7791  \\\n",
       "0     8.197320    9.907260       0.763921     10.088854  11.471137   \n",
       "1     8.950002   10.204975       4.411650      9.622978  11.199826   \n",
       "2     8.517335    9.722642       4.782796      8.895339  12.408980   \n",
       "3     8.441915    9.888267       6.041142      9.828389  12.725185   \n",
       "4     9.140127   10.368190       3.160501      9.607079  11.706703   \n",
       "\n",
       "   ZZEF1|23140  ZZZ3|26009  sample_type  \n",
       "0     9.768648    9.170596            1  \n",
       "1    10.153704    9.433116            1  \n",
       "2    10.194166    9.060342            1  \n",
       "3    10.192589    9.376842            1  \n",
       "4    10.763478    9.500392            1  \n",
       "\n",
       "[5 rows x 20533 columns]"
      ]
     },
     "execution_count": 2,
     "metadata": {},
     "output_type": "execute_result"
    }
   ],
   "source": [
    "# Import expression data\n",
    "expression = pd.read_csv('Gene_expression_log2.csv')\n",
    "expression.head()"
   ]
  },
  {
   "attachments": {},
   "cell_type": "markdown",
   "id": "cda4be25",
   "metadata": {},
   "source": [
    "## 1 Year"
   ]
  },
  {
   "cell_type": "code",
   "execution_count": 4,
   "id": "5769e0f7",
   "metadata": {},
   "outputs": [
    {
     "data": {
      "text/html": [
       "<div>\n",
       "<style scoped>\n",
       "    .dataframe tbody tr th:only-of-type {\n",
       "        vertical-align: middle;\n",
       "    }\n",
       "\n",
       "    .dataframe tbody tr th {\n",
       "        vertical-align: top;\n",
       "    }\n",
       "\n",
       "    .dataframe thead th {\n",
       "        text-align: right;\n",
       "    }\n",
       "</style>\n",
       "<table border=\"1\" class=\"dataframe\">\n",
       "  <thead>\n",
       "    <tr style=\"text-align: right;\">\n",
       "      <th></th>\n",
       "      <th>gene</th>\n",
       "      <th>baseMean</th>\n",
       "      <th>log2FoldChange</th>\n",
       "      <th>lfcSE</th>\n",
       "      <th>stat</th>\n",
       "      <th>pvalue</th>\n",
       "      <th>padj</th>\n",
       "    </tr>\n",
       "  </thead>\n",
       "  <tbody>\n",
       "    <tr>\n",
       "      <th>0</th>\n",
       "      <td>GPR77|27202</td>\n",
       "      <td>57.363315</td>\n",
       "      <td>-2.412671</td>\n",
       "      <td>0.229693</td>\n",
       "      <td>-10.503893</td>\n",
       "      <td>8.290000e-26</td>\n",
       "      <td>1.540000e-21</td>\n",
       "    </tr>\n",
       "    <tr>\n",
       "      <th>1</th>\n",
       "      <td>MT1A|4489</td>\n",
       "      <td>46.043479</td>\n",
       "      <td>-3.527803</td>\n",
       "      <td>0.431637</td>\n",
       "      <td>-8.173073</td>\n",
       "      <td>3.010000e-16</td>\n",
       "      <td>2.800000e-12</td>\n",
       "    </tr>\n",
       "    <tr>\n",
       "      <th>2</th>\n",
       "      <td>SCGB3A1|92304</td>\n",
       "      <td>6620.702084</td>\n",
       "      <td>3.900022</td>\n",
       "      <td>0.486672</td>\n",
       "      <td>8.013647</td>\n",
       "      <td>1.110000e-15</td>\n",
       "      <td>6.920000e-12</td>\n",
       "    </tr>\n",
       "    <tr>\n",
       "      <th>3</th>\n",
       "      <td>AMDHD1|144193</td>\n",
       "      <td>31.390227</td>\n",
       "      <td>-2.605383</td>\n",
       "      <td>0.336389</td>\n",
       "      <td>-7.745141</td>\n",
       "      <td>9.550000e-15</td>\n",
       "      <td>4.450000e-11</td>\n",
       "    </tr>\n",
       "    <tr>\n",
       "      <th>4</th>\n",
       "      <td>TMEM213|155006</td>\n",
       "      <td>87.078696</td>\n",
       "      <td>3.285105</td>\n",
       "      <td>0.436324</td>\n",
       "      <td>7.529047</td>\n",
       "      <td>5.110000e-14</td>\n",
       "      <td>1.900000e-10</td>\n",
       "    </tr>\n",
       "  </tbody>\n",
       "</table>\n",
       "</div>"
      ],
      "text/plain": [
       "             gene     baseMean  log2FoldChange     lfcSE       stat  \\\n",
       "0     GPR77|27202    57.363315       -2.412671  0.229693 -10.503893   \n",
       "1       MT1A|4489    46.043479       -3.527803  0.431637  -8.173073   \n",
       "2   SCGB3A1|92304  6620.702084        3.900022  0.486672   8.013647   \n",
       "3   AMDHD1|144193    31.390227       -2.605383  0.336389  -7.745141   \n",
       "4  TMEM213|155006    87.078696        3.285105  0.436324   7.529047   \n",
       "\n",
       "         pvalue          padj  \n",
       "0  8.290000e-26  1.540000e-21  \n",
       "1  3.010000e-16  2.800000e-12  \n",
       "2  1.110000e-15  6.920000e-12  \n",
       "3  9.550000e-15  4.450000e-11  \n",
       "4  5.110000e-14  1.900000e-10  "
      ]
     },
     "execution_count": 4,
     "metadata": {},
     "output_type": "execute_result"
    }
   ],
   "source": [
    "# Import 1-year exp data\n",
    "yr_one = pd.read_csv('top_100_DEgenes_1yr.txt', delimiter='\\t')\n",
    "yr_one.head()"
   ]
  },
  {
   "cell_type": "code",
   "execution_count": 5,
   "id": "052fba92",
   "metadata": {},
   "outputs": [
    {
     "data": {
      "text/plain": [
       "100"
      ]
     },
     "execution_count": 5,
     "metadata": {},
     "output_type": "execute_result"
    }
   ],
   "source": [
    "# Number of genes in both datasets\n",
    "len(set(expression.columns).intersection(set(yr_one.gene)))"
   ]
  },
  {
   "cell_type": "code",
   "execution_count": 6,
   "id": "389198c7",
   "metadata": {},
   "outputs": [
    {
     "data": {
      "text/plain": [
       "set()"
      ]
     },
     "execution_count": 6,
     "metadata": {},
     "output_type": "execute_result"
    }
   ],
   "source": [
    "# How many genes are present in the one-year that aren't in the expression data?\n",
    "# Should be 0\n",
    "set(yr_one.gene) - set(expression.columns)"
   ]
  },
  {
   "cell_type": "code",
   "execution_count": 7,
   "id": "0034d40e",
   "metadata": {},
   "outputs": [],
   "source": [
    "common_genes = set(yr_one.gene).intersection(set(expression.columns))\n",
    "common_genes.add('patient_id')"
   ]
  },
  {
   "cell_type": "code",
   "execution_count": 8,
   "id": "41b2ec62",
   "metadata": {},
   "outputs": [],
   "source": [
    "yr_one_exp = expression[list(common_genes)]"
   ]
  },
  {
   "attachments": {},
   "cell_type": "markdown",
   "id": "2ca49e6f",
   "metadata": {},
   "source": [
    "### Label data ###\n",
    "\n",
    "Which patients have survived?"
   ]
  },
  {
   "cell_type": "code",
   "execution_count": 9,
   "id": "6cffe711",
   "metadata": {},
   "outputs": [
    {
     "data": {
      "text/html": [
       "<div>\n",
       "<style scoped>\n",
       "    .dataframe tbody tr th:only-of-type {\n",
       "        vertical-align: middle;\n",
       "    }\n",
       "\n",
       "    .dataframe tbody tr th {\n",
       "        vertical-align: top;\n",
       "    }\n",
       "\n",
       "    .dataframe thead th {\n",
       "        text-align: right;\n",
       "    }\n",
       "</style>\n",
       "<table border=\"1\" class=\"dataframe\">\n",
       "  <thead>\n",
       "    <tr style=\"text-align: right;\">\n",
       "      <th></th>\n",
       "      <th>patient_id</th>\n",
       "      <th>Label</th>\n",
       "    </tr>\n",
       "  </thead>\n",
       "  <tbody>\n",
       "    <tr>\n",
       "      <th>0</th>\n",
       "      <td>TCGA-05-4249</td>\n",
       "      <td>1</td>\n",
       "    </tr>\n",
       "    <tr>\n",
       "      <th>1</th>\n",
       "      <td>TCGA-05-4382</td>\n",
       "      <td>1</td>\n",
       "    </tr>\n",
       "    <tr>\n",
       "      <th>2</th>\n",
       "      <td>TCGA-05-4384</td>\n",
       "      <td>1</td>\n",
       "    </tr>\n",
       "    <tr>\n",
       "      <th>3</th>\n",
       "      <td>TCGA-05-4389</td>\n",
       "      <td>1</td>\n",
       "    </tr>\n",
       "    <tr>\n",
       "      <th>4</th>\n",
       "      <td>TCGA-05-4390</td>\n",
       "      <td>1</td>\n",
       "    </tr>\n",
       "  </tbody>\n",
       "</table>\n",
       "</div>"
      ],
      "text/plain": [
       "     patient_id  Label\n",
       "0  TCGA-05-4249      1\n",
       "1  TCGA-05-4382      1\n",
       "2  TCGA-05-4384      1\n",
       "3  TCGA-05-4389      1\n",
       "4  TCGA-05-4390      1"
      ]
     },
     "execution_count": 9,
     "metadata": {},
     "output_type": "execute_result"
    }
   ],
   "source": [
    "y = pd.read_csv('labels_1yr.csv')\n",
    "y.head()"
   ]
  },
  {
   "cell_type": "code",
   "execution_count": 10,
   "id": "6d1945ae",
   "metadata": {},
   "outputs": [
    {
     "data": {
      "text/plain": [
       "1    374\n",
       "0     32\n",
       "Name: Label, dtype: int64"
      ]
     },
     "execution_count": 10,
     "metadata": {},
     "output_type": "execute_result"
    }
   ],
   "source": [
    "y.Label.value_counts()"
   ]
  },
  {
   "cell_type": "code",
   "execution_count": 11,
   "id": "9f043997",
   "metadata": {},
   "outputs": [],
   "source": [
    "patient_id = y['patient_id']\n",
    "exp_file = y.merge(yr_one_exp, on='patient_id')\n",
    "exp_file = exp_file.drop(['patient_id'],axis = 1)"
   ]
  },
  {
   "cell_type": "code",
   "execution_count": 12,
   "id": "e14668bd",
   "metadata": {},
   "outputs": [
    {
     "data": {
      "text/plain": [
       "(405, 101)"
      ]
     },
     "execution_count": 12,
     "metadata": {},
     "output_type": "execute_result"
    }
   ],
   "source": [
    "exp_file.shape"
   ]
  },
  {
   "attachments": {},
   "cell_type": "markdown",
   "id": "7ff9ccca",
   "metadata": {},
   "source": [
    "### Add metadata"
   ]
  },
  {
   "cell_type": "code",
   "execution_count": 13,
   "id": "dfcc8bbc",
   "metadata": {},
   "outputs": [],
   "source": [
    "# Add patient_id back\n",
    "exp_file['patient_id'] = patient_id\n",
    "\n",
    "# Add metadata to meta_file\n",
    "metadata_final = pd.read_csv('metadata_final_no_os.csv')\n",
    "meta_file = metadata_final.merge(exp_file, how='right', on='patient_id')"
   ]
  },
  {
   "cell_type": "code",
   "execution_count": 14,
   "id": "7a6add3e",
   "metadata": {},
   "outputs": [
    {
     "data": {
      "text/html": [
       "<div>\n",
       "<style scoped>\n",
       "    .dataframe tbody tr th:only-of-type {\n",
       "        vertical-align: middle;\n",
       "    }\n",
       "\n",
       "    .dataframe tbody tr th {\n",
       "        vertical-align: top;\n",
       "    }\n",
       "\n",
       "    .dataframe thead th {\n",
       "        text-align: right;\n",
       "    }\n",
       "</style>\n",
       "<table border=\"1\" class=\"dataframe\">\n",
       "  <thead>\n",
       "    <tr style=\"text-align: right;\">\n",
       "      <th></th>\n",
       "      <th>patient_id</th>\n",
       "      <th>age_at_initial_pathologic_diagnosis</th>\n",
       "      <th>gender_FEMALE</th>\n",
       "      <th>gender_MALE</th>\n",
       "      <th>tumor_stage_Early</th>\n",
       "      <th>tumor_stage_Late</th>\n",
       "      <th>tumor_stage_N/A</th>\n",
       "      <th>is_smoker_False</th>\n",
       "      <th>is_smoker_True</th>\n",
       "      <th>Label</th>\n",
       "      <th>...</th>\n",
       "      <th>UGT1A10|54575</th>\n",
       "      <th>AKAP12|9590</th>\n",
       "      <th>FCRL1|115350</th>\n",
       "      <th>LOC149620|149620</th>\n",
       "      <th>NRN1|51299</th>\n",
       "      <th>ORM1|5004</th>\n",
       "      <th>CTSH|1512</th>\n",
       "      <th>C12orf11|55726</th>\n",
       "      <th>CXCL5|6374</th>\n",
       "      <th>MT2A|4502</th>\n",
       "    </tr>\n",
       "  </thead>\n",
       "  <tbody>\n",
       "    <tr>\n",
       "      <th>0</th>\n",
       "      <td>TCGA-05-4249</td>\n",
       "      <td>67</td>\n",
       "      <td>0</td>\n",
       "      <td>1</td>\n",
       "      <td>1</td>\n",
       "      <td>0</td>\n",
       "      <td>0</td>\n",
       "      <td>0</td>\n",
       "      <td>1</td>\n",
       "      <td>1</td>\n",
       "      <td>...</td>\n",
       "      <td>1.529421</td>\n",
       "      <td>7.650585</td>\n",
       "      <td>4.759076</td>\n",
       "      <td>3.276913</td>\n",
       "      <td>8.034012</td>\n",
       "      <td>6.908381</td>\n",
       "      <td>14.159714</td>\n",
       "      <td>8.134950</td>\n",
       "      <td>3.726221</td>\n",
       "      <td>8.853818</td>\n",
       "    </tr>\n",
       "    <tr>\n",
       "      <th>1</th>\n",
       "      <td>TCGA-05-4382</td>\n",
       "      <td>68</td>\n",
       "      <td>0</td>\n",
       "      <td>1</td>\n",
       "      <td>1</td>\n",
       "      <td>0</td>\n",
       "      <td>0</td>\n",
       "      <td>0</td>\n",
       "      <td>1</td>\n",
       "      <td>1</td>\n",
       "      <td>...</td>\n",
       "      <td>2.249354</td>\n",
       "      <td>8.729852</td>\n",
       "      <td>3.496986</td>\n",
       "      <td>1.419593</td>\n",
       "      <td>6.718868</td>\n",
       "      <td>3.985218</td>\n",
       "      <td>12.086441</td>\n",
       "      <td>9.358550</td>\n",
       "      <td>10.203752</td>\n",
       "      <td>10.740885</td>\n",
       "    </tr>\n",
       "    <tr>\n",
       "      <th>2</th>\n",
       "      <td>TCGA-05-4384</td>\n",
       "      <td>66</td>\n",
       "      <td>0</td>\n",
       "      <td>1</td>\n",
       "      <td>0</td>\n",
       "      <td>1</td>\n",
       "      <td>0</td>\n",
       "      <td>0</td>\n",
       "      <td>1</td>\n",
       "      <td>1</td>\n",
       "      <td>...</td>\n",
       "      <td>0.000000</td>\n",
       "      <td>9.184729</td>\n",
       "      <td>3.255833</td>\n",
       "      <td>6.372553</td>\n",
       "      <td>6.979900</td>\n",
       "      <td>6.753591</td>\n",
       "      <td>12.666242</td>\n",
       "      <td>8.568876</td>\n",
       "      <td>5.604312</td>\n",
       "      <td>9.317634</td>\n",
       "    </tr>\n",
       "    <tr>\n",
       "      <th>3</th>\n",
       "      <td>TCGA-05-4389</td>\n",
       "      <td>70</td>\n",
       "      <td>0</td>\n",
       "      <td>1</td>\n",
       "      <td>1</td>\n",
       "      <td>0</td>\n",
       "      <td>0</td>\n",
       "      <td>0</td>\n",
       "      <td>1</td>\n",
       "      <td>1</td>\n",
       "      <td>...</td>\n",
       "      <td>7.026756</td>\n",
       "      <td>6.867551</td>\n",
       "      <td>3.231018</td>\n",
       "      <td>0.000000</td>\n",
       "      <td>5.653315</td>\n",
       "      <td>9.159379</td>\n",
       "      <td>14.116133</td>\n",
       "      <td>9.280318</td>\n",
       "      <td>4.468642</td>\n",
       "      <td>9.138057</td>\n",
       "    </tr>\n",
       "    <tr>\n",
       "      <th>4</th>\n",
       "      <td>TCGA-05-4390</td>\n",
       "      <td>58</td>\n",
       "      <td>1</td>\n",
       "      <td>0</td>\n",
       "      <td>1</td>\n",
       "      <td>0</td>\n",
       "      <td>0</td>\n",
       "      <td>0</td>\n",
       "      <td>1</td>\n",
       "      <td>1</td>\n",
       "      <td>...</td>\n",
       "      <td>0.000000</td>\n",
       "      <td>9.023034</td>\n",
       "      <td>2.611031</td>\n",
       "      <td>0.000000</td>\n",
       "      <td>10.271685</td>\n",
       "      <td>6.662077</td>\n",
       "      <td>11.198077</td>\n",
       "      <td>8.716329</td>\n",
       "      <td>10.799492</td>\n",
       "      <td>9.640357</td>\n",
       "    </tr>\n",
       "    <tr>\n",
       "      <th>...</th>\n",
       "      <td>...</td>\n",
       "      <td>...</td>\n",
       "      <td>...</td>\n",
       "      <td>...</td>\n",
       "      <td>...</td>\n",
       "      <td>...</td>\n",
       "      <td>...</td>\n",
       "      <td>...</td>\n",
       "      <td>...</td>\n",
       "      <td>...</td>\n",
       "      <td>...</td>\n",
       "      <td>...</td>\n",
       "      <td>...</td>\n",
       "      <td>...</td>\n",
       "      <td>...</td>\n",
       "      <td>...</td>\n",
       "      <td>...</td>\n",
       "      <td>...</td>\n",
       "      <td>...</td>\n",
       "      <td>...</td>\n",
       "      <td>...</td>\n",
       "    </tr>\n",
       "    <tr>\n",
       "      <th>400</th>\n",
       "      <td>TCGA-NJ-A4YG</td>\n",
       "      <td>65</td>\n",
       "      <td>0</td>\n",
       "      <td>1</td>\n",
       "      <td>1</td>\n",
       "      <td>0</td>\n",
       "      <td>0</td>\n",
       "      <td>0</td>\n",
       "      <td>1</td>\n",
       "      <td>1</td>\n",
       "      <td>...</td>\n",
       "      <td>0.000000</td>\n",
       "      <td>7.735915</td>\n",
       "      <td>6.800680</td>\n",
       "      <td>5.660837</td>\n",
       "      <td>7.830458</td>\n",
       "      <td>4.740798</td>\n",
       "      <td>12.632689</td>\n",
       "      <td>8.453908</td>\n",
       "      <td>2.590243</td>\n",
       "      <td>11.047894</td>\n",
       "    </tr>\n",
       "    <tr>\n",
       "      <th>401</th>\n",
       "      <td>TCGA-NJ-A4YQ</td>\n",
       "      <td>69</td>\n",
       "      <td>1</td>\n",
       "      <td>0</td>\n",
       "      <td>1</td>\n",
       "      <td>0</td>\n",
       "      <td>0</td>\n",
       "      <td>0</td>\n",
       "      <td>1</td>\n",
       "      <td>1</td>\n",
       "      <td>...</td>\n",
       "      <td>6.868934</td>\n",
       "      <td>8.901479</td>\n",
       "      <td>6.162762</td>\n",
       "      <td>1.547104</td>\n",
       "      <td>7.962624</td>\n",
       "      <td>8.971518</td>\n",
       "      <td>12.745334</td>\n",
       "      <td>8.843045</td>\n",
       "      <td>5.220438</td>\n",
       "      <td>9.980754</td>\n",
       "    </tr>\n",
       "    <tr>\n",
       "      <th>402</th>\n",
       "      <td>TCGA-NJ-A55R</td>\n",
       "      <td>67</td>\n",
       "      <td>0</td>\n",
       "      <td>1</td>\n",
       "      <td>1</td>\n",
       "      <td>0</td>\n",
       "      <td>0</td>\n",
       "      <td>1</td>\n",
       "      <td>0</td>\n",
       "      <td>1</td>\n",
       "      <td>...</td>\n",
       "      <td>1.576667</td>\n",
       "      <td>4.831659</td>\n",
       "      <td>2.699352</td>\n",
       "      <td>1.717912</td>\n",
       "      <td>4.578721</td>\n",
       "      <td>5.505224</td>\n",
       "      <td>13.987104</td>\n",
       "      <td>8.479012</td>\n",
       "      <td>5.066645</td>\n",
       "      <td>12.268884</td>\n",
       "    </tr>\n",
       "    <tr>\n",
       "      <th>403</th>\n",
       "      <td>TCGA-NJ-A7XG</td>\n",
       "      <td>49</td>\n",
       "      <td>0</td>\n",
       "      <td>1</td>\n",
       "      <td>0</td>\n",
       "      <td>1</td>\n",
       "      <td>0</td>\n",
       "      <td>1</td>\n",
       "      <td>0</td>\n",
       "      <td>1</td>\n",
       "      <td>...</td>\n",
       "      <td>0.000000</td>\n",
       "      <td>8.406320</td>\n",
       "      <td>1.284159</td>\n",
       "      <td>3.113617</td>\n",
       "      <td>5.330358</td>\n",
       "      <td>6.948227</td>\n",
       "      <td>16.699600</td>\n",
       "      <td>8.212832</td>\n",
       "      <td>2.532242</td>\n",
       "      <td>11.091660</td>\n",
       "    </tr>\n",
       "    <tr>\n",
       "      <th>404</th>\n",
       "      <td>TCGA-O1-A52J</td>\n",
       "      <td>74</td>\n",
       "      <td>1</td>\n",
       "      <td>0</td>\n",
       "      <td>1</td>\n",
       "      <td>0</td>\n",
       "      <td>0</td>\n",
       "      <td>0</td>\n",
       "      <td>1</td>\n",
       "      <td>1</td>\n",
       "      <td>...</td>\n",
       "      <td>0.000000</td>\n",
       "      <td>9.337673</td>\n",
       "      <td>7.895915</td>\n",
       "      <td>0.727006</td>\n",
       "      <td>7.275854</td>\n",
       "      <td>7.051959</td>\n",
       "      <td>15.142259</td>\n",
       "      <td>8.629659</td>\n",
       "      <td>9.258088</td>\n",
       "      <td>10.044203</td>\n",
       "    </tr>\n",
       "  </tbody>\n",
       "</table>\n",
       "<p>405 rows × 110 columns</p>\n",
       "</div>"
      ],
      "text/plain": [
       "       patient_id  age_at_initial_pathologic_diagnosis  gender_FEMALE  \\\n",
       "0    TCGA-05-4249                                   67              0   \n",
       "1    TCGA-05-4382                                   68              0   \n",
       "2    TCGA-05-4384                                   66              0   \n",
       "3    TCGA-05-4389                                   70              0   \n",
       "4    TCGA-05-4390                                   58              1   \n",
       "..            ...                                  ...            ...   \n",
       "400  TCGA-NJ-A4YG                                   65              0   \n",
       "401  TCGA-NJ-A4YQ                                   69              1   \n",
       "402  TCGA-NJ-A55R                                   67              0   \n",
       "403  TCGA-NJ-A7XG                                   49              0   \n",
       "404  TCGA-O1-A52J                                   74              1   \n",
       "\n",
       "     gender_MALE  tumor_stage_Early  tumor_stage_Late  tumor_stage_N/A  \\\n",
       "0              1                  1                 0                0   \n",
       "1              1                  1                 0                0   \n",
       "2              1                  0                 1                0   \n",
       "3              1                  1                 0                0   \n",
       "4              0                  1                 0                0   \n",
       "..           ...                ...               ...              ...   \n",
       "400            1                  1                 0                0   \n",
       "401            0                  1                 0                0   \n",
       "402            1                  1                 0                0   \n",
       "403            1                  0                 1                0   \n",
       "404            0                  1                 0                0   \n",
       "\n",
       "     is_smoker_False  is_smoker_True  Label  ...  UGT1A10|54575  AKAP12|9590  \\\n",
       "0                  0               1      1  ...       1.529421     7.650585   \n",
       "1                  0               1      1  ...       2.249354     8.729852   \n",
       "2                  0               1      1  ...       0.000000     9.184729   \n",
       "3                  0               1      1  ...       7.026756     6.867551   \n",
       "4                  0               1      1  ...       0.000000     9.023034   \n",
       "..               ...             ...    ...  ...            ...          ...   \n",
       "400                0               1      1  ...       0.000000     7.735915   \n",
       "401                0               1      1  ...       6.868934     8.901479   \n",
       "402                1               0      1  ...       1.576667     4.831659   \n",
       "403                1               0      1  ...       0.000000     8.406320   \n",
       "404                0               1      1  ...       0.000000     9.337673   \n",
       "\n",
       "     FCRL1|115350  LOC149620|149620  NRN1|51299  ORM1|5004  CTSH|1512  \\\n",
       "0        4.759076          3.276913    8.034012   6.908381  14.159714   \n",
       "1        3.496986          1.419593    6.718868   3.985218  12.086441   \n",
       "2        3.255833          6.372553    6.979900   6.753591  12.666242   \n",
       "3        3.231018          0.000000    5.653315   9.159379  14.116133   \n",
       "4        2.611031          0.000000   10.271685   6.662077  11.198077   \n",
       "..            ...               ...         ...        ...        ...   \n",
       "400      6.800680          5.660837    7.830458   4.740798  12.632689   \n",
       "401      6.162762          1.547104    7.962624   8.971518  12.745334   \n",
       "402      2.699352          1.717912    4.578721   5.505224  13.987104   \n",
       "403      1.284159          3.113617    5.330358   6.948227  16.699600   \n",
       "404      7.895915          0.727006    7.275854   7.051959  15.142259   \n",
       "\n",
       "     C12orf11|55726  CXCL5|6374  MT2A|4502  \n",
       "0          8.134950    3.726221   8.853818  \n",
       "1          9.358550   10.203752  10.740885  \n",
       "2          8.568876    5.604312   9.317634  \n",
       "3          9.280318    4.468642   9.138057  \n",
       "4          8.716329   10.799492   9.640357  \n",
       "..              ...         ...        ...  \n",
       "400        8.453908    2.590243  11.047894  \n",
       "401        8.843045    5.220438   9.980754  \n",
       "402        8.479012    5.066645  12.268884  \n",
       "403        8.212832    2.532242  11.091660  \n",
       "404        8.629659    9.258088  10.044203  \n",
       "\n",
       "[405 rows x 110 columns]"
      ]
     },
     "execution_count": 14,
     "metadata": {},
     "output_type": "execute_result"
    }
   ],
   "source": [
    "meta_file"
   ]
  },
  {
   "cell_type": "code",
   "execution_count": 42,
   "id": "f28af4d3",
   "metadata": {},
   "outputs": [
    {
     "data": {
      "text/plain": [
       "6"
      ]
     },
     "execution_count": 42,
     "metadata": {},
     "output_type": "execute_result"
    }
   ],
   "source": [
    "NA = ((meta_file['tumor_stage_N/A'] == 1)).sum()\n",
    "NA"
   ]
  },
  {
   "cell_type": "code",
   "execution_count": 31,
   "id": "4e8eac49",
   "metadata": {},
   "outputs": [
    {
     "data": {
      "text/plain": [
       "1    373\n",
       "0     32\n",
       "Name: Label, dtype: int64"
      ]
     },
     "execution_count": 31,
     "metadata": {},
     "output_type": "execute_result"
    }
   ],
   "source": [
    "meta_file.Label.value_counts()"
   ]
  },
  {
   "cell_type": "code",
   "execution_count": 24,
   "id": "aab68fd6",
   "metadata": {},
   "outputs": [
    {
     "name": "stdout",
     "output_type": "stream",
     "text": [
      "210\n",
      "15\n",
      "1    225\n",
      "0    180\n",
      "Name: gender_FEMALE, dtype: int64\n"
     ]
    }
   ],
   "source": [
    "count_F_Live = ((meta_file['gender_FEMALE'] == 1) & (meta_file['Label'] == 1)).sum()\n",
    "print(count_F_Live)\n",
    "count_F_dead = ((meta_file['gender_FEMALE'] == 1) & (meta_file['Label'] == 0)).sum()\n",
    "print(count_F_dead)\n",
    "F = meta_file.gender_FEMALE.value_counts()\n",
    "print(F)"
   ]
  },
  {
   "cell_type": "code",
   "execution_count": 26,
   "id": "396595d2",
   "metadata": {},
   "outputs": [
    {
     "name": "stdout",
     "output_type": "stream",
     "text": [
      "163\n",
      "17\n",
      "0    225\n",
      "1    180\n",
      "Name: gender_MALE, dtype: int64\n"
     ]
    }
   ],
   "source": [
    "count_M_Live = ((meta_file['gender_MALE'] == 1) & (meta_file['Label'] == 1)).sum()\n",
    "print(count_M_Live)\n",
    "count_M_dead = ((meta_file['gender_MALE'] == 1) & (meta_file['Label'] == 0)).sum()\n",
    "print(count_M_dead)\n",
    "M = meta_file.gender_MALE.value_counts()\n",
    "print(M)"
   ]
  },
  {
   "cell_type": "code",
   "execution_count": 28,
   "id": "4dce7c57",
   "metadata": {},
   "outputs": [
    {
     "name": "stdout",
     "output_type": "stream",
     "text": [
      "293\n",
      "26\n",
      "1    319\n",
      "0     86\n",
      "Name: tumor_stage_Early, dtype: int64\n"
     ]
    }
   ],
   "source": [
    "count_early_live = ((meta_file['tumor_stage_Early'] == 1) & (meta_file['Label'] == 1)).sum()\n",
    "print(count_early_live)\n",
    "count_early_dead = ((meta_file['tumor_stage_Early'] == 1) & (meta_file['Label'] == 0)).sum()\n",
    "print(count_early_dead)\n",
    "early = meta_file.tumor_stage_Early.value_counts()\n",
    "print(early)"
   ]
  },
  {
   "cell_type": "code",
   "execution_count": 29,
   "id": "fd0de787",
   "metadata": {},
   "outputs": [
    {
     "name": "stdout",
     "output_type": "stream",
     "text": [
      "74\n",
      "6\n",
      "0    325\n",
      "1     80\n",
      "Name: tumor_stage_Late, dtype: int64\n"
     ]
    }
   ],
   "source": [
    "count_late_live = ((meta_file['tumor_stage_Late'] == 1) & (meta_file['Label'] == 1)).sum()\n",
    "print(count_late_live)\n",
    "count_late_dead = ((meta_file['tumor_stage_Late'] == 1) & (meta_file['Label'] == 0)).sum()\n",
    "print(count_late_dead)\n",
    "late = meta_file.tumor_stage_Late.value_counts()\n",
    "print(late)"
   ]
  },
  {
   "cell_type": "code",
   "execution_count": 30,
   "id": "72e34811",
   "metadata": {},
   "outputs": [
    {
     "name": "stdout",
     "output_type": "stream",
     "text": [
      "237\n",
      "19\n",
      "1    256\n",
      "0    149\n",
      "Name: is_smoker_True, dtype: int64\n"
     ]
    }
   ],
   "source": [
    "count_smoker_live = ((meta_file['is_smoker_True'] == 1) & (meta_file['Label'] == 1)).sum()\n",
    "print(count_smoker_live)\n",
    "count_smoker_dead = ((meta_file['is_smoker_True'] == 1) & (meta_file['Label'] == 0)).sum()\n",
    "print(count_smoker_dead)\n",
    "smoker = meta_file.is_smoker_True.value_counts()\n",
    "print(smoker)"
   ]
  },
  {
   "cell_type": "code",
   "execution_count": 32,
   "id": "362cfe41",
   "metadata": {},
   "outputs": [
    {
     "name": "stdout",
     "output_type": "stream",
     "text": [
      "136\n",
      "13\n",
      "0    256\n",
      "1    149\n",
      "Name: is_smoker_False, dtype: int64\n"
     ]
    }
   ],
   "source": [
    "count_nonsmoker_live = ((meta_file['is_smoker_False'] == 1) & (meta_file['Label'] == 1)).sum()\n",
    "print(count_nonsmoker_live)\n",
    "count_nonsmoker_dead = ((meta_file['is_smoker_False'] == 1) & (meta_file['Label'] == 0)).sum()\n",
    "print(count_nonsmoker_dead)\n",
    "nonsmoker = meta_file.is_smoker_False.value_counts()\n",
    "print(nonsmoker)"
   ]
  },
  {
   "cell_type": "code",
   "execution_count": 33,
   "id": "c6409286",
   "metadata": {},
   "outputs": [
    {
     "name": "stdout",
     "output_type": "stream",
     "text": [
      "163\n",
      "16\n",
      "179\n"
     ]
    }
   ],
   "source": [
    "count_under65_live = ((meta_file['age_at_initial_pathologic_diagnosis'] < 65) & (meta_file['Label'] == 1)).sum()\n",
    "print(count_under65_live)\n",
    "count_under65_dead = ((meta_file['age_at_initial_pathologic_diagnosis'] < 65) & (meta_file['Label'] == 0)).sum()\n",
    "print(count_under65_dead)\n",
    "under65 = (meta_file['age_at_initial_pathologic_diagnosis'] < 65).sum()\n",
    "print(under65)"
   ]
  },
  {
   "cell_type": "code",
   "execution_count": 36,
   "id": "4a4065b8",
   "metadata": {},
   "outputs": [
    {
     "name": "stdout",
     "output_type": "stream",
     "text": [
      "210\n",
      "16\n",
      "226\n"
     ]
    }
   ],
   "source": [
    "count_over65_live = ((meta_file['age_at_initial_pathologic_diagnosis'] >= 65) & (meta_file['Label'] == 1)).sum()\n",
    "print(count_over65_live)\n",
    "count_over65_dead = ((meta_file['age_at_initial_pathologic_diagnosis'] >= 65) & (meta_file['Label'] == 0)).sum()\n",
    "print(count_over65_dead)\n",
    "over65 = (meta_file['age_at_initial_pathologic_diagnosis'] >= 65).sum()\n",
    "print(over65)"
   ]
  }
 ],
 "metadata": {
  "kernelspec": {
   "display_name": "Python 3 (ipykernel)",
   "language": "python",
   "name": "python3"
  },
  "language_info": {
   "codemirror_mode": {
    "name": "ipython",
    "version": 3
   },
   "file_extension": ".py",
   "mimetype": "text/x-python",
   "name": "python",
   "nbconvert_exporter": "python",
   "pygments_lexer": "ipython3",
   "version": "3.9.16"
  }
 },
 "nbformat": 4,
 "nbformat_minor": 5
}
